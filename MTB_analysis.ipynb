{
  "nbformat": 4,
  "nbformat_minor": 0,
  "metadata": {
    "colab": {
      "name": "Nivea.ipynb",
      "provenance": [],
      "collapsed_sections": []
    },
    "kernelspec": {
      "name": "python3",
      "display_name": "Python 3"
    }
  },
  "cells": [
    {
      "cell_type": "code",
      "metadata": {
        "id": "_VTpDgTNej0N",
        "colab_type": "code",
        "colab": {}
      },
      "source": [
        "import pandas as pd\n",
        "import numpy as np\n",
        "import matplotlib.pyplot as plt\n",
        "import seaborn as sns\n",
        "sns.set()\n",
        "\n",
        "%matplotlib inline\n",
        "\n",
        "data= pd.read_csv('data_nivea.csv')"
      ],
      "execution_count": null,
      "outputs": []
    },
    {
      "cell_type": "code",
      "metadata": {
        "id": "eg11iHH4ITn0",
        "colab_type": "code",
        "colab": {
          "base_uri": "https://localhost:8080/",
          "height": 408
        },
        "outputId": "34f7f8bd-89c4-4d16-98ee-e4e8d6a5da80"
      },
      "source": [
        "data[['Dia','Mes','Ano']] = data.DATA_TRM.str.split(\"/\",expand=True,)\n",
        "data.head()"
      ],
      "execution_count": null,
      "outputs": [
        {
          "output_type": "execute_result",
          "data": {
            "text/html": [
              "<div>\n",
              "<style scoped>\n",
              "    .dataframe tbody tr th:only-of-type {\n",
              "        vertical-align: middle;\n",
              "    }\n",
              "\n",
              "    .dataframe tbody tr th {\n",
              "        vertical-align: top;\n",
              "    }\n",
              "\n",
              "    .dataframe thead th {\n",
              "        text-align: right;\n",
              "    }\n",
              "</style>\n",
              "<table border=\"1\" class=\"dataframe\">\n",
              "  <thead>\n",
              "    <tr style=\"text-align: right;\">\n",
              "      <th></th>\n",
              "      <th>Nome</th>\n",
              "      <th>ID</th>\n",
              "      <th>HIV_TEST</th>\n",
              "      <th>SEXO</th>\n",
              "      <th>IDADE</th>\n",
              "      <th>CIDADE</th>\n",
              "      <th>DATA_TRM</th>\n",
              "      <th>MTB</th>\n",
              "      <th>RFP</th>\n",
              "      <th>DATA_CULTURA</th>\n",
              "      <th>RESULTADO</th>\n",
              "      <th>TSA</th>\n",
              "      <th>INH</th>\n",
              "      <th>RFP.1</th>\n",
              "      <th>BEM</th>\n",
              "      <th>SM</th>\n",
              "      <th>Dia</th>\n",
              "      <th>Mes</th>\n",
              "      <th>Ano</th>\n",
              "    </tr>\n",
              "  </thead>\n",
              "  <tbody>\n",
              "    <tr>\n",
              "      <th>0</th>\n",
              "      <td>GENILSON PAULO DOS SANTOS</td>\n",
              "      <td>2.0</td>\n",
              "      <td>NaN</td>\n",
              "      <td>M</td>\n",
              "      <td>28.0</td>\n",
              "      <td>CABEDELO</td>\n",
              "      <td>5/8/2015</td>\n",
              "      <td>DETECTADO</td>\n",
              "      <td>NÃO</td>\n",
              "      <td>NaN</td>\n",
              "      <td>NaN</td>\n",
              "      <td>NaN</td>\n",
              "      <td>NaN</td>\n",
              "      <td>NaN</td>\n",
              "      <td>NaN</td>\n",
              "      <td>NaN</td>\n",
              "      <td>5</td>\n",
              "      <td>8</td>\n",
              "      <td>2015</td>\n",
              "    </tr>\n",
              "    <tr>\n",
              "      <th>1</th>\n",
              "      <td>MARIA VITORIA BANDEIRA DA SILVA</td>\n",
              "      <td>9.0</td>\n",
              "      <td>NaN</td>\n",
              "      <td>F</td>\n",
              "      <td>38.0</td>\n",
              "      <td>JOÃO PESSOA</td>\n",
              "      <td>5/11/2015</td>\n",
              "      <td>DETECTADO</td>\n",
              "      <td>NÃO</td>\n",
              "      <td>NaN</td>\n",
              "      <td>NaN</td>\n",
              "      <td>NaN</td>\n",
              "      <td>NaN</td>\n",
              "      <td>NaN</td>\n",
              "      <td>NaN</td>\n",
              "      <td>NaN</td>\n",
              "      <td>5</td>\n",
              "      <td>11</td>\n",
              "      <td>2015</td>\n",
              "    </tr>\n",
              "    <tr>\n",
              "      <th>2</th>\n",
              "      <td>CASSIANO JOSE DA COSTA JUNIO</td>\n",
              "      <td>10.0</td>\n",
              "      <td>NaN</td>\n",
              "      <td>M</td>\n",
              "      <td>21.0</td>\n",
              "      <td>SANTA RITA</td>\n",
              "      <td>5/12/2015</td>\n",
              "      <td>DETECTADO</td>\n",
              "      <td>NÃO</td>\n",
              "      <td>NaN</td>\n",
              "      <td>NaN</td>\n",
              "      <td>NaN</td>\n",
              "      <td>NaN</td>\n",
              "      <td>NaN</td>\n",
              "      <td>NaN</td>\n",
              "      <td>NaN</td>\n",
              "      <td>5</td>\n",
              "      <td>12</td>\n",
              "      <td>2015</td>\n",
              "    </tr>\n",
              "    <tr>\n",
              "      <th>3</th>\n",
              "      <td>DANIEL CARLOS SILVA DE SOUZA</td>\n",
              "      <td>21.0</td>\n",
              "      <td>SIM</td>\n",
              "      <td>M</td>\n",
              "      <td>26.0</td>\n",
              "      <td>JOÃO PESSOA</td>\n",
              "      <td>5/14/2015</td>\n",
              "      <td>DETECTADO</td>\n",
              "      <td>NÃO</td>\n",
              "      <td>NaN</td>\n",
              "      <td>NaN</td>\n",
              "      <td>NaN</td>\n",
              "      <td>NaN</td>\n",
              "      <td>NaN</td>\n",
              "      <td>NaN</td>\n",
              "      <td>NaN</td>\n",
              "      <td>5</td>\n",
              "      <td>14</td>\n",
              "      <td>2015</td>\n",
              "    </tr>\n",
              "    <tr>\n",
              "      <th>4</th>\n",
              "      <td>SEVERINO HELENO DA SILVA</td>\n",
              "      <td>28.0</td>\n",
              "      <td>NaN</td>\n",
              "      <td>M</td>\n",
              "      <td>48.0</td>\n",
              "      <td>RIO TINTO</td>\n",
              "      <td>5/19/2015</td>\n",
              "      <td>DETECTADO</td>\n",
              "      <td>NÃO</td>\n",
              "      <td>NaN</td>\n",
              "      <td>NaN</td>\n",
              "      <td>NaN</td>\n",
              "      <td>NaN</td>\n",
              "      <td>NaN</td>\n",
              "      <td>NaN</td>\n",
              "      <td>NaN</td>\n",
              "      <td>5</td>\n",
              "      <td>19</td>\n",
              "      <td>2015</td>\n",
              "    </tr>\n",
              "  </tbody>\n",
              "</table>\n",
              "</div>"
            ],
            "text/plain": [
              "                              Nome    ID HIV_TEST SEXO  ...   SM Dia Mes   Ano\n",
              "0        GENILSON PAULO DOS SANTOS   2.0      NaN    M  ...  NaN   5   8  2015\n",
              "1  MARIA VITORIA BANDEIRA DA SILVA   9.0      NaN    F  ...  NaN   5  11  2015\n",
              "2     CASSIANO JOSE DA COSTA JUNIO  10.0      NaN    M  ...  NaN   5  12  2015\n",
              "3     DANIEL CARLOS SILVA DE SOUZA  21.0      SIM    M  ...  NaN   5  14  2015\n",
              "4         SEVERINO HELENO DA SILVA  28.0      NaN    M  ...  NaN   5  19  2015\n",
              "\n",
              "[5 rows x 19 columns]"
            ]
          },
          "metadata": {
            "tags": []
          },
          "execution_count": 20
        }
      ]
    },
    {
      "cell_type": "code",
      "metadata": {
        "id": "7-Sj9QbKBBaF",
        "colab_type": "code",
        "colab": {}
      },
      "source": [
        "clean_1 = {\n",
        "                \"HIV_TEST\":{\"SIM\":1},\n",
        "                \"MTB\": {\"DETECTADO\":1},\n",
        "                \"Ano\":{\"15\":\"2015\"}\n",
        "                }\n",
        "data.replace(clean_1, inplace=True)"
      ],
      "execution_count": null,
      "outputs": []
    },
    {
      "cell_type": "code",
      "metadata": {
        "id": "wamUPKET9glZ",
        "colab_type": "code",
        "colab": {}
      },
      "source": [
        "data = data.fillna(\"0\")"
      ],
      "execution_count": null,
      "outputs": []
    },
    {
      "cell_type": "code",
      "metadata": {
        "id": "zSwJcsjiI5_k",
        "colab_type": "code",
        "colab": {
          "base_uri": "https://localhost:8080/",
          "height": 289
        },
        "outputId": "04d9716b-fc92-4dda-c384-1f9b5c2e2e13"
      },
      "source": [
        "data = data.rename(columns={\"SEXO\":\"Sexo\"})\n",
        "data.head()"
      ],
      "execution_count": null,
      "outputs": [
        {
          "output_type": "execute_result",
          "data": {
            "text/html": [
              "<div>\n",
              "<style scoped>\n",
              "    .dataframe tbody tr th:only-of-type {\n",
              "        vertical-align: middle;\n",
              "    }\n",
              "\n",
              "    .dataframe tbody tr th {\n",
              "        vertical-align: top;\n",
              "    }\n",
              "\n",
              "    .dataframe thead th {\n",
              "        text-align: right;\n",
              "    }\n",
              "</style>\n",
              "<table border=\"1\" class=\"dataframe\">\n",
              "  <thead>\n",
              "    <tr style=\"text-align: right;\">\n",
              "      <th></th>\n",
              "      <th>Nome</th>\n",
              "      <th>ID</th>\n",
              "      <th>HIV_TEST</th>\n",
              "      <th>Sexo</th>\n",
              "      <th>IDADE</th>\n",
              "      <th>CIDADE</th>\n",
              "      <th>DATA_TRM</th>\n",
              "      <th>MTB</th>\n",
              "      <th>RFP</th>\n",
              "      <th>DATA_CULTURA</th>\n",
              "      <th>RESULTADO</th>\n",
              "      <th>TSA</th>\n",
              "      <th>INH</th>\n",
              "      <th>RFP.1</th>\n",
              "      <th>BEM</th>\n",
              "      <th>SM</th>\n",
              "      <th>Dia</th>\n",
              "      <th>Mes</th>\n",
              "      <th>Ano</th>\n",
              "    </tr>\n",
              "  </thead>\n",
              "  <tbody>\n",
              "    <tr>\n",
              "      <th>0</th>\n",
              "      <td>GENILSON PAULO DOS SANTOS</td>\n",
              "      <td>2</td>\n",
              "      <td>0</td>\n",
              "      <td>M</td>\n",
              "      <td>28</td>\n",
              "      <td>CABEDELO</td>\n",
              "      <td>5/8/2015</td>\n",
              "      <td>1</td>\n",
              "      <td>NÃO</td>\n",
              "      <td>0</td>\n",
              "      <td>0</td>\n",
              "      <td>0</td>\n",
              "      <td>0</td>\n",
              "      <td>0</td>\n",
              "      <td>0</td>\n",
              "      <td>0</td>\n",
              "      <td>5</td>\n",
              "      <td>8</td>\n",
              "      <td>2015</td>\n",
              "    </tr>\n",
              "    <tr>\n",
              "      <th>1</th>\n",
              "      <td>MARIA VITORIA BANDEIRA DA SILVA</td>\n",
              "      <td>9</td>\n",
              "      <td>0</td>\n",
              "      <td>F</td>\n",
              "      <td>38</td>\n",
              "      <td>JOÃO PESSOA</td>\n",
              "      <td>5/11/2015</td>\n",
              "      <td>1</td>\n",
              "      <td>NÃO</td>\n",
              "      <td>0</td>\n",
              "      <td>0</td>\n",
              "      <td>0</td>\n",
              "      <td>0</td>\n",
              "      <td>0</td>\n",
              "      <td>0</td>\n",
              "      <td>0</td>\n",
              "      <td>5</td>\n",
              "      <td>11</td>\n",
              "      <td>2015</td>\n",
              "    </tr>\n",
              "    <tr>\n",
              "      <th>2</th>\n",
              "      <td>CASSIANO JOSE DA COSTA JUNIO</td>\n",
              "      <td>10</td>\n",
              "      <td>0</td>\n",
              "      <td>M</td>\n",
              "      <td>21</td>\n",
              "      <td>SANTA RITA</td>\n",
              "      <td>5/12/2015</td>\n",
              "      <td>1</td>\n",
              "      <td>NÃO</td>\n",
              "      <td>0</td>\n",
              "      <td>0</td>\n",
              "      <td>0</td>\n",
              "      <td>0</td>\n",
              "      <td>0</td>\n",
              "      <td>0</td>\n",
              "      <td>0</td>\n",
              "      <td>5</td>\n",
              "      <td>12</td>\n",
              "      <td>2015</td>\n",
              "    </tr>\n",
              "    <tr>\n",
              "      <th>3</th>\n",
              "      <td>DANIEL CARLOS SILVA DE SOUZA</td>\n",
              "      <td>21</td>\n",
              "      <td>1</td>\n",
              "      <td>M</td>\n",
              "      <td>26</td>\n",
              "      <td>JOÃO PESSOA</td>\n",
              "      <td>5/14/2015</td>\n",
              "      <td>1</td>\n",
              "      <td>NÃO</td>\n",
              "      <td>0</td>\n",
              "      <td>0</td>\n",
              "      <td>0</td>\n",
              "      <td>0</td>\n",
              "      <td>0</td>\n",
              "      <td>0</td>\n",
              "      <td>0</td>\n",
              "      <td>5</td>\n",
              "      <td>14</td>\n",
              "      <td>2015</td>\n",
              "    </tr>\n",
              "    <tr>\n",
              "      <th>4</th>\n",
              "      <td>SEVERINO HELENO DA SILVA</td>\n",
              "      <td>28</td>\n",
              "      <td>0</td>\n",
              "      <td>M</td>\n",
              "      <td>48</td>\n",
              "      <td>RIO TINTO</td>\n",
              "      <td>5/19/2015</td>\n",
              "      <td>1</td>\n",
              "      <td>NÃO</td>\n",
              "      <td>0</td>\n",
              "      <td>0</td>\n",
              "      <td>0</td>\n",
              "      <td>0</td>\n",
              "      <td>0</td>\n",
              "      <td>0</td>\n",
              "      <td>0</td>\n",
              "      <td>5</td>\n",
              "      <td>19</td>\n",
              "      <td>2015</td>\n",
              "    </tr>\n",
              "  </tbody>\n",
              "</table>\n",
              "</div>"
            ],
            "text/plain": [
              "                              Nome  ID HIV_TEST Sexo IDADE  ... BEM SM  Dia Mes   Ano\n",
              "0        GENILSON PAULO DOS SANTOS   2        0    M    28  ...   0  0    5   8  2015\n",
              "1  MARIA VITORIA BANDEIRA DA SILVA   9        0    F    38  ...   0  0    5  11  2015\n",
              "2     CASSIANO JOSE DA COSTA JUNIO  10        0    M    21  ...   0  0    5  12  2015\n",
              "3     DANIEL CARLOS SILVA DE SOUZA  21        1    M    26  ...   0  0    5  14  2015\n",
              "4         SEVERINO HELENO DA SILVA  28        0    M    48  ...   0  0    5  19  2015\n",
              "\n",
              "[5 rows x 19 columns]"
            ]
          },
          "metadata": {
            "tags": []
          },
          "execution_count": 23
        }
      ]
    },
    {
      "cell_type": "code",
      "metadata": {
        "id": "Nj64909YDPhe",
        "colab_type": "code",
        "colab": {}
      },
      "source": [
        "clean_2 = {\n",
        "          \"CIDADE\":{\"JOAO PESSOA\": \"JOÃO PESSOA\"},\n",
        "          \"RESULTADO\":{\"P+++\": \"P +++\"},\n",
        "          \"RFP.1\":{\"s\": \"S\"},\n",
        "          \"TSA\":{\"SIm\": \"SIM\",\"Sim\": \"SIM\"},\n",
        "          \"INH\":{\"s\": \"S\"},\n",
        "          \"BEM\":{\"s\": \"S\"},\n",
        "          \"SM\":{\"s\": \"S\"},\n",
        "          \"RFP\":{\"NÃO \":\"NÃO\"},\n",
        "          \"TSA\":{\"0\":\"Negativo\", \"SIM\": \"Positivo\", \"Sim\":\"Positivo\", \"SIm\":\"Positivo\"}\n",
        "                }\n",
        "data.replace(clean_2, inplace=True)"
      ],
      "execution_count": null,
      "outputs": []
    },
    {
      "cell_type": "code",
      "metadata": {
        "id": "r5ZuQ_sgZLJB",
        "colab_type": "code",
        "colab": {}
      },
      "source": [
        "data['HIV_TEST']=data['HIV_TEST'].astype(int)\n",
        "data['IDADE']=data['IDADE'].astype(int)\n",
        "data['Ano']=data['Ano'].astype(int)"
      ],
      "execution_count": null,
      "outputs": []
    },
    {
      "cell_type": "code",
      "metadata": {
        "id": "TuB5xCN5D1iA",
        "colab_type": "code",
        "colab": {
          "base_uri": "https://localhost:8080/",
          "height": 386
        },
        "outputId": "ebc2c6ae-48fe-428f-ce63-e815a2e07c41"
      },
      "source": [
        "g =sns.catplot(x=\"Sexo\", kind=\"count\",  data=data, palette=\"pastel\", estimator=lambda x:  len(data))\n",
        "g.set_xticklabels(['Posito', 'Negativo'])\n",
        "g.set_axis_labels('Sexo', 'Número de Casos')\n",
        "g.set_xticklabels(['Masculino', 'Feminino'])"
      ],
      "execution_count": null,
      "outputs": [
        {
          "output_type": "execute_result",
          "data": {
            "text/plain": [
              "<seaborn.axisgrid.FacetGrid at 0x7fe8847dfa90>"
            ]
          },
          "metadata": {
            "tags": []
          },
          "execution_count": 26
        },
        {
          "output_type": "display_data",
          "data": {
            "image/png": "[encoded data removed]",
            "text/plain": [
              "<Figure size 360x360 with 1 Axes>"
            ]
          },
          "metadata": {
            "tags": [],
            "needs_background": "light"
          }
        }
      ]
    },
    {
      "cell_type": "code",
      "metadata": {
        "id": "qmesmksUjvo0",
        "colab_type": "code",
        "colab": {
          "base_uri": "https://localhost:8080/",
          "height": 68
        },
        "outputId": "d7b59f60-bb8e-4b0c-e2bd-804ebe42e837"
      },
      "source": [
        "data.Sexo.value_counts(normalize=True) * 100"
      ],
      "execution_count": null,
      "outputs": [
        {
          "output_type": "execute_result",
          "data": {
            "text/plain": [
              "M    72.968037\n",
              "F    27.031963\n",
              "Name: Sexo, dtype: float64"
            ]
          },
          "metadata": {
            "tags": []
          },
          "execution_count": 27
        }
      ]
    },
    {
      "cell_type": "code",
      "metadata": {
        "id": "o-leQoUFavM0",
        "colab_type": "code",
        "colab": {}
      },
      "source": [
        "data_new = {\"Ano\":[2015, 2016, 2017, 2018, 2019], \"Sensibilidade\":[169, 193, 215,357,197],\"Resistência\":[7,7,23,14,11]}\n",
        "df4 = pd.DataFrame.from_dict(data_new)\n",
        "df4.plot(x=\"Ano\", y=[\"Sensibilidade\", \"Resistência\"], kind=\"bar\", colormap='Set3')\n",
        "plt.xticks(rotation=0)"
      ],
      "execution_count": null,
      "outputs": []
    },
    {
      "cell_type": "code",
      "metadata": {
        "id": "4ZgkxAc-kO7e",
        "colab_type": "code",
        "colab": {
          "base_uri": "https://localhost:8080/",
          "height": 302
        },
        "outputId": "7b9cb149-a1dd-4f79-9765-6087657636c7"
      },
      "source": [
        "data_new1 = {\"Ano\":[2015, 2016, 2017, 2018, 2019], \"Total de Teste\":[707,860,879,1618,862],\"MTB Detectada\":[176,200,238,371,208],\n",
        "             \"MTB Não Detectada\":[518, 642, 619, 1188,629], \"Erros\":[13,18,22,59,29]}\n",
        "df5 = pd.DataFrame.from_dict(data_new1)\n",
        "\n",
        "df5.plot(x=\"Ano\", y=[\"Total de Teste\",\"MTB Detectada\",\"MTB Não Detectada\",\"Erros\"], kind=\"bar\", colormap='Set3')\n",
        "plt.xticks(rotation=0)\n"
      ],
      "execution_count": null,
      "outputs": [
        {
          "output_type": "execute_result",
          "data": {
            "text/plain": [
              "(array([0, 1, 2, 3, 4]), <a list of 5 Text major ticklabel objects>)"
            ]
          },
          "metadata": {
            "tags": []
          },
          "execution_count": 30
        },
        {
          "output_type": "display_data",
          "data": {
            "image/png": "[encoded data removed]",
            "text/plain": [
              "<Figure size 432x288 with 1 Axes>"
            ]
          },
          "metadata": {
            "tags": [],
            "needs_background": "light"
          }
        }
      ]
    },
    {
      "cell_type": "code",
      "metadata": {
        "id": "_o2Brwl0nFvG",
        "colab_type": "code",
        "colab": {
          "base_uri": "https://localhost:8080/",
          "height": 386
        },
        "outputId": "debe074f-7290-463c-b429-b9a5e72e0051"
      },
      "source": [
        "h =sns.catplot(x=\"HIV_TEST\", kind=\"count\",  data=data, palette=\"pastel\", estimator=lambda x:  len(data))\n",
        "h.set_xticklabels(['Negativo', 'Positivo'])\n",
        "h.set_axis_labels('Teste de HIV', 'Número de Casos')"
      ],
      "execution_count": null,
      "outputs": [
        {
          "output_type": "execute_result",
          "data": {
            "text/plain": [
              "<seaborn.axisgrid.FacetGrid at 0x7fe883e570b8>"
            ]
          },
          "metadata": {
            "tags": []
          },
          "execution_count": 32
        },
        {
          "output_type": "display_data",
          "data": {
            "image/png": "[encoded data removed]",
            "text/plain": [
              "<Figure size 360x360 with 1 Axes>"
            ]
          },
          "metadata": {
            "tags": [],
            "needs_background": "light"
          }
        }
      ]
    },
    {
      "cell_type": "code",
      "metadata": {
        "id": "guxg_4MBkBgh",
        "colab_type": "code",
        "colab": {
          "base_uri": "https://localhost:8080/",
          "height": 68
        },
        "outputId": "b349c58f-3610-4460-a111-130df9b92499"
      },
      "source": [
        "data.HIV_TEST.value_counts(normalize=True) * 100"
      ],
      "execution_count": null,
      "outputs": [
        {
          "output_type": "execute_result",
          "data": {
            "text/plain": [
              "0    93.607306\n",
              "1     6.392694\n",
              "Name: HIV_TEST, dtype: float64"
            ]
          },
          "metadata": {
            "tags": []
          },
          "execution_count": 33
        }
      ]
    },
    {
      "cell_type": "code",
      "metadata": {
        "id": "oOq7UXp0NuI8",
        "colab_type": "code",
        "colab": {
          "base_uri": "https://localhost:8080/",
          "height": 386
        },
        "outputId": "af66ada5-a362-4343-9d58-94ebcbefbb18"
      },
      "source": [
        "t = sns.catplot(x=\"TSA\", kind=\"count\",\n",
        "            palette=\"pastel\", edgecolor=\".6\",\n",
        "            data=data);\n",
        "t.set_xticklabels(['Apenas TRM', 'Outros exames'])\n",
        "t.set_axis_labels('Exames', 'Quantidade de Pacientes')"
      ],
      "execution_count": null,
      "outputs": [
        {
          "output_type": "execute_result",
          "data": {
            "text/plain": [
              "<seaborn.axisgrid.FacetGrid at 0x7fe883d44748>"
            ]
          },
          "metadata": {
            "tags": []
          },
          "execution_count": 34
        },
        {
          "output_type": "display_data",
          "data": {
            "image/png": "[encoded data removed]",
            "text/plain": [
              "<Figure size 360x360 with 1 Axes>"
            ]
          },
          "metadata": {
            "tags": [],
            "needs_background": "light"
          }
        }
      ]
    },
    {
      "cell_type": "code",
      "metadata": {
        "id": "AMud_d3CkHCp",
        "colab_type": "code",
        "colab": {
          "base_uri": "https://localhost:8080/",
          "height": 68
        },
        "outputId": "35cf64a4-2f96-4744-b205-b6ba9afca2c7"
      },
      "source": [
        "data.TSA.value_counts(normalize=True) * 100"
      ],
      "execution_count": null,
      "outputs": [
        {
          "output_type": "execute_result",
          "data": {
            "text/plain": [
              "Negativo    90.136986\n",
              "Positivo     9.863014\n",
              "Name: TSA, dtype: float64"
            ]
          },
          "metadata": {
            "tags": []
          },
          "execution_count": 35
        }
      ]
    },
    {
      "cell_type": "code",
      "metadata": {
        "id": "gK-tCDVtGYzF",
        "colab_type": "code",
        "colab": {
          "base_uri": "https://localhost:8080/",
          "height": 386
        },
        "outputId": "347f4d53-3730-4d43-8979-3bc931d82663"
      },
      "source": [
        "g =sns.catplot(x=\"RFP\",\n",
        "            kind=\"count\", palette=\"pastel\", data=data)\n",
        "g.set_xticklabels(['Não Detectada', 'Detectada'])\n",
        "g.set_axis_labels('TRM', 'Número de Casos')"
      ],
      "execution_count": null,
      "outputs": [
        {
          "output_type": "execute_result",
          "data": {
            "text/plain": [
              "<seaborn.axisgrid.FacetGrid at 0x7fe88480d358>"
            ]
          },
          "metadata": {
            "tags": []
          },
          "execution_count": 36
        },
        {
          "output_type": "display_data",
          "data": {
            "image/png": "[encoded data removed]",
            "text/plain": [
              "<Figure size 360x360 with 1 Axes>"
            ]
          },
          "metadata": {
            "tags": [],
            "needs_background": "light"
          }
        }
      ]
    },
    {
      "cell_type": "code",
      "metadata": {
        "id": "Cumy2hjikQlH",
        "colab_type": "code",
        "colab": {
          "base_uri": "https://localhost:8080/",
          "height": 68
        },
        "outputId": "20be5373-ab29-4a4a-d9b4-52b37201165e"
      },
      "source": [
        "data.RFP.value_counts(normalize=True) * 100"
      ],
      "execution_count": null,
      "outputs": [
        {
          "output_type": "execute_result",
          "data": {
            "text/plain": [
              "NÃO           95.525114\n",
              "RESISTENTE     4.474886\n",
              "Name: RFP, dtype: float64"
            ]
          },
          "metadata": {
            "tags": []
          },
          "execution_count": 37
        }
      ]
    },
    {
      "cell_type": "code",
      "metadata": {
        "id": "g3ckIQ4rNaX4",
        "colab_type": "code",
        "colab": {}
      },
      "source": [
        "bins = [0,10,20,30,40,50,60,70,80,90]\n",
        "labels=[1,2,3,4,5,6,7,8,9]\n",
        "data['IDADE'] = pd.cut(data['IDADE'], bins=bins, labels=labels, right=False)"
      ],
      "execution_count": null,
      "outputs": []
    },
    {
      "cell_type": "code",
      "metadata": {
        "id": "gq7TMhx2SK0n",
        "colab_type": "code",
        "colab": {
          "base_uri": "https://localhost:8080/",
          "height": 408
        },
        "outputId": "d1c7840f-59bf-405a-c696-5506ae43a989"
      },
      "source": [
        "s = sns.catplot(x=\"IDADE\", kind=\"count\",\n",
        "            palette=\"pastel\", edgecolor=\".6\",\n",
        "            data=data);\n",
        "s.set_xticklabels(['0-10', '10-20','20-30','30-40','40-50','50-60','60-70', '70-80', '80-90'], rotation= 90)\n",
        "s.set_axis_labels('Idade', 'Número de Casos')"
      ],
      "execution_count": null,
      "outputs": [
        {
          "output_type": "execute_result",
          "data": {
            "text/plain": [
              "<seaborn.axisgrid.FacetGrid at 0x7fe883d02e80>"
            ]
          },
          "metadata": {
            "tags": []
          },
          "execution_count": 42
        },
        {
          "output_type": "display_data",
          "data": {
            "image/png": "[encoded data removed]",
            "text/plain": [
              "<Figure size 360x360 with 1 Axes>"
            ]
          },
          "metadata": {
            "tags": [],
            "needs_background": "light"
          }
        }
      ]
    },
    {
      "cell_type": "code",
      "metadata": {
        "id": "toE6KrbxkXsl",
        "colab_type": "code",
        "colab": {
          "base_uri": "https://localhost:8080/",
          "height": 187
        },
        "outputId": "62bedd7a-fcbd-4d2b-8d85-2bb92d341787"
      },
      "source": [
        "data.IDADE.value_counts(normalize=True) * 100"
      ],
      "execution_count": null,
      "outputs": [
        {
          "output_type": "execute_result",
          "data": {
            "text/plain": [
              "4    24.289643\n",
              "3    24.106324\n",
              "5    18.056829\n",
              "6    14.665445\n",
              "7     7.974335\n",
              "2     7.332722\n",
              "8     3.116407\n",
              "9     0.366636\n",
              "1     0.091659\n",
              "Name: IDADE, dtype: float64"
            ]
          },
          "metadata": {
            "tags": []
          },
          "execution_count": 43
        }
      ]
    },
    {
      "cell_type": "code",
      "metadata": {
        "id": "crVdDhHObQSg",
        "colab_type": "code",
        "colab": {}
      },
      "source": [
        "df = data[['INH','RFP.1','BEM','SM']]"
      ],
      "execution_count": null,
      "outputs": []
    },
    {
      "cell_type": "code",
      "metadata": {
        "id": "HqXbfTt1oGXG",
        "colab_type": "code",
        "colab": {}
      },
      "source": [
        "df = df.rename(columns={\"RFP.1\":\"RMP\",\"BEM\":\"EMB\"})\n",
        "\n",
        "clean_4 = {\n",
        "                \"INH\":{\"0\":\"Negativo\", \"S\": \"Sensível\", \"R\":\"Resistente\"},\n",
        "                \"RMP\":{\"0\":\"Negativo\", \"S\": \"Sensível\", \"R\":\"Resistente\"},\n",
        "                \"EMB\":{\"0\":\"Negativo\", \"S\": \"Sensível\", \"R\":\"Resistente\"},\n",
        "                \"SM\":{\"0\":\"Negativo\", \"S\": \"Sensível\", \"R\":\"Resistente\"},\n",
        "                }\n",
        "\n",
        "df.replace(clean_4, inplace=True)\n"
      ],
      "execution_count": null,
      "outputs": []
    },
    {
      "cell_type": "code",
      "metadata": {
        "id": "UCUK36kOjN6U",
        "colab_type": "code",
        "colab": {}
      },
      "source": [
        "pieces = []\n",
        "for col in df.columns:\n",
        "    tmp_series = df[col].value_counts()\n",
        "    tmp_series.name = col\n",
        "    pieces.append(tmp_series)\n",
        "    \n",
        "df_value_counts = pd.concat(pieces, axis=1)"
      ],
      "execution_count": null,
      "outputs": []
    },
    {
      "cell_type": "code",
      "metadata": {
        "id": "UqBjugKWs1hp",
        "colab_type": "code",
        "colab": {}
      },
      "source": [
        "df_value_counts =  df_value_counts[1:]"
      ],
      "execution_count": null,
      "outputs": []
    },
    {
      "cell_type": "code",
      "metadata": {
        "id": "yce6G_bzk0h7",
        "colab_type": "code",
        "colab": {
          "base_uri": "https://localhost:8080/",
          "height": 285
        },
        "outputId": "97a2ecd6-fff2-42a7-8f7e-43caeee99616"
      },
      "source": [
        "df_value_counts.plot(kind='bar', colormap= 'Pastel1', rot= 0)\n",
        "plt.ylabel('Número de Testes')"
      ],
      "execution_count": null,
      "outputs": [
        {
          "output_type": "execute_result",
          "data": {
            "text/plain": [
              "Text(0, 0.5, 'Número de Testes')"
            ]
          },
          "metadata": {
            "tags": []
          },
          "execution_count": 48
        },
        {
          "output_type": "display_data",
          "data": {
            "image/png": "[encoded data removed]",
            "text/plain": [
              "<Figure size 432x288 with 1 Axes>"
            ]
          },
          "metadata": {
            "tags": [],
            "needs_background": "light"
          }
        }
      ]
    },
    {
      "cell_type": "code",
      "metadata": {
        "id": "Og6YGu-9lhfB",
        "colab_type": "code",
        "colab": {
          "base_uri": "https://localhost:8080/",
          "height": 289
        },
        "outputId": "c006f3b4-4667-482a-9afe-cf030f1f9aa3"
      },
      "source": [
        "data.head()"
      ],
      "execution_count": null,
      "outputs": [
        {
          "output_type": "execute_result",
          "data": {
            "text/html": [
              "<div>\n",
              "<style scoped>\n",
              "    .dataframe tbody tr th:only-of-type {\n",
              "        vertical-align: middle;\n",
              "    }\n",
              "\n",
              "    .dataframe tbody tr th {\n",
              "        vertical-align: top;\n",
              "    }\n",
              "\n",
              "    .dataframe thead th {\n",
              "        text-align: right;\n",
              "    }\n",
              "</style>\n",
              "<table border=\"1\" class=\"dataframe\">\n",
              "  <thead>\n",
              "    <tr style=\"text-align: right;\">\n",
              "      <th></th>\n",
              "      <th>Nome</th>\n",
              "      <th>ID</th>\n",
              "      <th>HIV_TEST</th>\n",
              "      <th>Sexo</th>\n",
              "      <th>IDADE</th>\n",
              "      <th>CIDADE</th>\n",
              "      <th>DATA_TRM</th>\n",
              "      <th>MTB</th>\n",
              "      <th>RFP</th>\n",
              "      <th>DATA_CULTURA</th>\n",
              "      <th>RESULTADO</th>\n",
              "      <th>TSA</th>\n",
              "      <th>INH</th>\n",
              "      <th>RFP.1</th>\n",
              "      <th>BEM</th>\n",
              "      <th>SM</th>\n",
              "      <th>Dia</th>\n",
              "      <th>Mes</th>\n",
              "      <th>Ano</th>\n",
              "    </tr>\n",
              "  </thead>\n",
              "  <tbody>\n",
              "    <tr>\n",
              "      <th>0</th>\n",
              "      <td>GENILSON PAULO DOS SANTOS</td>\n",
              "      <td>2</td>\n",
              "      <td>0</td>\n",
              "      <td>M</td>\n",
              "      <td>3</td>\n",
              "      <td>CABEDELO</td>\n",
              "      <td>5/8/2015</td>\n",
              "      <td>1</td>\n",
              "      <td>NÃO</td>\n",
              "      <td>0</td>\n",
              "      <td>0</td>\n",
              "      <td>Negativo</td>\n",
              "      <td>0</td>\n",
              "      <td>0</td>\n",
              "      <td>0</td>\n",
              "      <td>0</td>\n",
              "      <td>5</td>\n",
              "      <td>8</td>\n",
              "      <td>2015</td>\n",
              "    </tr>\n",
              "    <tr>\n",
              "      <th>1</th>\n",
              "      <td>MARIA VITORIA BANDEIRA DA SILVA</td>\n",
              "      <td>9</td>\n",
              "      <td>0</td>\n",
              "      <td>F</td>\n",
              "      <td>4</td>\n",
              "      <td>JOÃO PESSOA</td>\n",
              "      <td>5/11/2015</td>\n",
              "      <td>1</td>\n",
              "      <td>NÃO</td>\n",
              "      <td>0</td>\n",
              "      <td>0</td>\n",
              "      <td>Negativo</td>\n",
              "      <td>0</td>\n",
              "      <td>0</td>\n",
              "      <td>0</td>\n",
              "      <td>0</td>\n",
              "      <td>5</td>\n",
              "      <td>11</td>\n",
              "      <td>2015</td>\n",
              "    </tr>\n",
              "    <tr>\n",
              "      <th>2</th>\n",
              "      <td>CASSIANO JOSE DA COSTA JUNIO</td>\n",
              "      <td>10</td>\n",
              "      <td>0</td>\n",
              "      <td>M</td>\n",
              "      <td>3</td>\n",
              "      <td>SANTA RITA</td>\n",
              "      <td>5/12/2015</td>\n",
              "      <td>1</td>\n",
              "      <td>NÃO</td>\n",
              "      <td>0</td>\n",
              "      <td>0</td>\n",
              "      <td>Negativo</td>\n",
              "      <td>0</td>\n",
              "      <td>0</td>\n",
              "      <td>0</td>\n",
              "      <td>0</td>\n",
              "      <td>5</td>\n",
              "      <td>12</td>\n",
              "      <td>2015</td>\n",
              "    </tr>\n",
              "    <tr>\n",
              "      <th>3</th>\n",
              "      <td>DANIEL CARLOS SILVA DE SOUZA</td>\n",
              "      <td>21</td>\n",
              "      <td>1</td>\n",
              "      <td>M</td>\n",
              "      <td>3</td>\n",
              "      <td>JOÃO PESSOA</td>\n",
              "      <td>5/14/2015</td>\n",
              "      <td>1</td>\n",
              "      <td>NÃO</td>\n",
              "      <td>0</td>\n",
              "      <td>0</td>\n",
              "      <td>Negativo</td>\n",
              "      <td>0</td>\n",
              "      <td>0</td>\n",
              "      <td>0</td>\n",
              "      <td>0</td>\n",
              "      <td>5</td>\n",
              "      <td>14</td>\n",
              "      <td>2015</td>\n",
              "    </tr>\n",
              "    <tr>\n",
              "      <th>4</th>\n",
              "      <td>SEVERINO HELENO DA SILVA</td>\n",
              "      <td>28</td>\n",
              "      <td>0</td>\n",
              "      <td>M</td>\n",
              "      <td>5</td>\n",
              "      <td>RIO TINTO</td>\n",
              "      <td>5/19/2015</td>\n",
              "      <td>1</td>\n",
              "      <td>NÃO</td>\n",
              "      <td>0</td>\n",
              "      <td>0</td>\n",
              "      <td>Negativo</td>\n",
              "      <td>0</td>\n",
              "      <td>0</td>\n",
              "      <td>0</td>\n",
              "      <td>0</td>\n",
              "      <td>5</td>\n",
              "      <td>19</td>\n",
              "      <td>2015</td>\n",
              "    </tr>\n",
              "  </tbody>\n",
              "</table>\n",
              "</div>"
            ],
            "text/plain": [
              "                              Nome  ID  HIV_TEST Sexo  ... SM Dia Mes   Ano\n",
              "0        GENILSON PAULO DOS SANTOS   2         0    M  ...  0   5   8  2015\n",
              "1  MARIA VITORIA BANDEIRA DA SILVA   9         0    F  ...  0   5  11  2015\n",
              "2     CASSIANO JOSE DA COSTA JUNIO  10         0    M  ...  0   5  12  2015\n",
              "3     DANIEL CARLOS SILVA DE SOUZA  21         1    M  ...  0   5  14  2015\n",
              "4         SEVERINO HELENO DA SILVA  28         0    M  ...  0   5  19  2015\n",
              "\n",
              "[5 rows x 19 columns]"
            ]
          },
          "metadata": {
            "tags": []
          },
          "execution_count": 65
        }
      ]
    },
    {
      "cell_type": "code",
      "metadata": {
        "id": "nSCJk9D9geQW",
        "colab_type": "code",
        "colab": {
          "base_uri": "https://localhost:8080/",
          "height": 204
        },
        "outputId": "8c9a81d7-fba7-4127-d58f-5b96be44c716"
      },
      "source": [
        "data_time= data[['DATA_TRM', 'DATA_CULTURA']]\n",
        "data_time.head()"
      ],
      "execution_count": null,
      "outputs": [
        {
          "output_type": "execute_result",
          "data": {
            "text/html": [
              "<div>\n",
              "<style scoped>\n",
              "    .dataframe tbody tr th:only-of-type {\n",
              "        vertical-align: middle;\n",
              "    }\n",
              "\n",
              "    .dataframe tbody tr th {\n",
              "        vertical-align: top;\n",
              "    }\n",
              "\n",
              "    .dataframe thead th {\n",
              "        text-align: right;\n",
              "    }\n",
              "</style>\n",
              "<table border=\"1\" class=\"dataframe\">\n",
              "  <thead>\n",
              "    <tr style=\"text-align: right;\">\n",
              "      <th></th>\n",
              "      <th>DATA_TRM</th>\n",
              "      <th>DATA_CULTURA</th>\n",
              "    </tr>\n",
              "  </thead>\n",
              "  <tbody>\n",
              "    <tr>\n",
              "      <th>0</th>\n",
              "      <td>5/8/2015</td>\n",
              "      <td>0</td>\n",
              "    </tr>\n",
              "    <tr>\n",
              "      <th>1</th>\n",
              "      <td>5/11/2015</td>\n",
              "      <td>0</td>\n",
              "    </tr>\n",
              "    <tr>\n",
              "      <th>2</th>\n",
              "      <td>5/12/2015</td>\n",
              "      <td>0</td>\n",
              "    </tr>\n",
              "    <tr>\n",
              "      <th>3</th>\n",
              "      <td>5/14/2015</td>\n",
              "      <td>0</td>\n",
              "    </tr>\n",
              "    <tr>\n",
              "      <th>4</th>\n",
              "      <td>5/19/2015</td>\n",
              "      <td>0</td>\n",
              "    </tr>\n",
              "  </tbody>\n",
              "</table>\n",
              "</div>"
            ],
            "text/plain": [
              "    DATA_TRM DATA_CULTURA\n",
              "0   5/8/2015            0\n",
              "1  5/11/2015            0\n",
              "2  5/12/2015            0\n",
              "3  5/14/2015            0\n",
              "4  5/19/2015            0"
            ]
          },
          "metadata": {
            "tags": []
          },
          "execution_count": 50
        }
      ]
    },
    {
      "cell_type": "code",
      "metadata": {
        "id": "vfQAnVWmr17R",
        "colab_type": "code",
        "colab": {}
      },
      "source": [
        "mask = data_time['DATA_CULTURA'] != '0'\n",
        "data_timing = data_time[mask]"
      ],
      "execution_count": null,
      "outputs": []
    },
    {
      "cell_type": "code",
      "metadata": {
        "id": "cwq4ScvAtCHK",
        "colab_type": "code",
        "colab": {}
      },
      "source": [
        "data_timing = data_timing.apply(pd.to_datetime)"
      ],
      "execution_count": null,
      "outputs": []
    },
    {
      "cell_type": "code",
      "metadata": {
        "id": "UDDDfUaa_Xvn",
        "colab_type": "code",
        "colab": {
          "base_uri": "https://localhost:8080/",
          "height": 419
        },
        "outputId": "5d53f736-4fae-402f-92a1-86cd052de9a3"
      },
      "source": [
        "data_timing"
      ],
      "execution_count": null,
      "outputs": [
        {
          "output_type": "execute_result",
          "data": {
            "text/html": [
              "<div>\n",
              "<style scoped>\n",
              "    .dataframe tbody tr th:only-of-type {\n",
              "        vertical-align: middle;\n",
              "    }\n",
              "\n",
              "    .dataframe tbody tr th {\n",
              "        vertical-align: top;\n",
              "    }\n",
              "\n",
              "    .dataframe thead th {\n",
              "        text-align: right;\n",
              "    }\n",
              "</style>\n",
              "<table border=\"1\" class=\"dataframe\">\n",
              "  <thead>\n",
              "    <tr style=\"text-align: right;\">\n",
              "      <th></th>\n",
              "      <th>DATA_TRM</th>\n",
              "      <th>DATA_CULTURA</th>\n",
              "    </tr>\n",
              "  </thead>\n",
              "  <tbody>\n",
              "    <tr>\n",
              "      <th>61</th>\n",
              "      <td>2015-07-31</td>\n",
              "      <td>2016-03-11</td>\n",
              "    </tr>\n",
              "    <tr>\n",
              "      <th>63</th>\n",
              "      <td>2015-08-19</td>\n",
              "      <td>2015-11-20</td>\n",
              "    </tr>\n",
              "    <tr>\n",
              "      <th>64</th>\n",
              "      <td>2015-08-21</td>\n",
              "      <td>2015-10-14</td>\n",
              "    </tr>\n",
              "    <tr>\n",
              "      <th>76</th>\n",
              "      <td>2015-08-03</td>\n",
              "      <td>2015-08-24</td>\n",
              "    </tr>\n",
              "    <tr>\n",
              "      <th>81</th>\n",
              "      <td>2015-08-17</td>\n",
              "      <td>2015-08-20</td>\n",
              "    </tr>\n",
              "    <tr>\n",
              "      <th>...</th>\n",
              "      <td>...</td>\n",
              "      <td>...</td>\n",
              "    </tr>\n",
              "    <tr>\n",
              "      <th>1008</th>\n",
              "      <td>2019-03-11</td>\n",
              "      <td>2019-06-05</td>\n",
              "    </tr>\n",
              "    <tr>\n",
              "      <th>1018</th>\n",
              "      <td>2019-04-04</td>\n",
              "      <td>2019-06-05</td>\n",
              "    </tr>\n",
              "    <tr>\n",
              "      <th>1020</th>\n",
              "      <td>2019-04-10</td>\n",
              "      <td>2019-06-05</td>\n",
              "    </tr>\n",
              "    <tr>\n",
              "      <th>1035</th>\n",
              "      <td>2019-04-05</td>\n",
              "      <td>2019-05-31</td>\n",
              "    </tr>\n",
              "    <tr>\n",
              "      <th>1055</th>\n",
              "      <td>2019-05-04</td>\n",
              "      <td>2019-05-31</td>\n",
              "    </tr>\n",
              "  </tbody>\n",
              "</table>\n",
              "<p>108 rows × 2 columns</p>\n",
              "</div>"
            ],
            "text/plain": [
              "       DATA_TRM DATA_CULTURA\n",
              "61   2015-07-31   2016-03-11\n",
              "63   2015-08-19   2015-11-20\n",
              "64   2015-08-21   2015-10-14\n",
              "76   2015-08-03   2015-08-24\n",
              "81   2015-08-17   2015-08-20\n",
              "...         ...          ...\n",
              "1008 2019-03-11   2019-06-05\n",
              "1018 2019-04-04   2019-06-05\n",
              "1020 2019-04-10   2019-06-05\n",
              "1035 2019-04-05   2019-05-31\n",
              "1055 2019-05-04   2019-05-31\n",
              "\n",
              "[108 rows x 2 columns]"
            ]
          },
          "metadata": {
            "tags": []
          },
          "execution_count": 54
        }
      ]
    },
    {
      "cell_type": "code",
      "metadata": {
        "id": "CWhcMPcxz9BP",
        "colab_type": "code",
        "colab": {
          "base_uri": "https://localhost:8080/",
          "height": 204
        },
        "outputId": "0f2be150-06e2-4920-b1be-d9c1a87b6335"
      },
      "source": [
        "data_timing['Difference'] = data_timing['DATA_CULTURA'].sub(data_timing['DATA_TRM'], axis=0)  \n",
        "data_timing['Difference']= data_timing['Difference'].astype(str)\n",
        "data_timing.head()"
      ],
      "execution_count": null,
      "outputs": [
        {
          "output_type": "execute_result",
          "data": {
            "text/html": [
              "<div>\n",
              "<style scoped>\n",
              "    .dataframe tbody tr th:only-of-type {\n",
              "        vertical-align: middle;\n",
              "    }\n",
              "\n",
              "    .dataframe tbody tr th {\n",
              "        vertical-align: top;\n",
              "    }\n",
              "\n",
              "    .dataframe thead th {\n",
              "        text-align: right;\n",
              "    }\n",
              "</style>\n",
              "<table border=\"1\" class=\"dataframe\">\n",
              "  <thead>\n",
              "    <tr style=\"text-align: right;\">\n",
              "      <th></th>\n",
              "      <th>DATA_TRM</th>\n",
              "      <th>DATA_CULTURA</th>\n",
              "      <th>Difference</th>\n",
              "      <th>Time</th>\n",
              "    </tr>\n",
              "  </thead>\n",
              "  <tbody>\n",
              "    <tr>\n",
              "      <th>61</th>\n",
              "      <td>2015-07-31</td>\n",
              "      <td>2016-03-11</td>\n",
              "      <td>224 days 00:00:00.000000000</td>\n",
              "      <td>NaN</td>\n",
              "    </tr>\n",
              "    <tr>\n",
              "      <th>63</th>\n",
              "      <td>2015-08-19</td>\n",
              "      <td>2015-11-20</td>\n",
              "      <td>93 days 00:00:00.000000000</td>\n",
              "      <td>5</td>\n",
              "    </tr>\n",
              "    <tr>\n",
              "      <th>64</th>\n",
              "      <td>2015-08-21</td>\n",
              "      <td>2015-10-14</td>\n",
              "      <td>54 days 00:00:00.000000000</td>\n",
              "      <td>3</td>\n",
              "    </tr>\n",
              "    <tr>\n",
              "      <th>76</th>\n",
              "      <td>2015-08-03</td>\n",
              "      <td>2015-08-24</td>\n",
              "      <td>21 days 00:00:00.000000000</td>\n",
              "      <td>2</td>\n",
              "    </tr>\n",
              "    <tr>\n",
              "      <th>81</th>\n",
              "      <td>2015-08-17</td>\n",
              "      <td>2015-08-20</td>\n",
              "      <td>3 days 00:00:00.000000000</td>\n",
              "      <td>1</td>\n",
              "    </tr>\n",
              "  </tbody>\n",
              "</table>\n",
              "</div>"
            ],
            "text/plain": [
              "     DATA_TRM DATA_CULTURA                   Difference Time\n",
              "61 2015-07-31   2016-03-11  224 days 00:00:00.000000000  NaN\n",
              "63 2015-08-19   2015-11-20   93 days 00:00:00.000000000    5\n",
              "64 2015-08-21   2015-10-14   54 days 00:00:00.000000000    3\n",
              "76 2015-08-03   2015-08-24   21 days 00:00:00.000000000    2\n",
              "81 2015-08-17   2015-08-20    3 days 00:00:00.000000000    1"
            ]
          },
          "metadata": {
            "tags": []
          },
          "execution_count": 66
        }
      ]
    },
    {
      "cell_type": "code",
      "metadata": {
        "id": "NyxwQOiE7g_N",
        "colab_type": "code",
        "colab": {}
      },
      "source": [
        "data_timing['Time'] = data_timing.Difference.apply(lambda x: x.split(' ')[0])\n",
        "data_timing['Time'] = data_timing['Time'].astype(int)\n",
        "data_timing['Time'] = data_timing['Time'].abs()"
      ],
      "execution_count": null,
      "outputs": []
    },
    {
      "cell_type": "code",
      "metadata": {
        "id": "_fzXxxLrElcr",
        "colab_type": "code",
        "colab": {}
      },
      "source": [
        "bins = [0,10,30,60,90,120,150,180,210]\n",
        "labels=[1,2,3,4,5,6,7,8]\n",
        "data_timing['Time'] = pd.cut(data_timing['Time'], bins=bins, labels=labels, right=False)"
      ],
      "execution_count": null,
      "outputs": []
    },
    {
      "cell_type": "code",
      "metadata": {
        "id": "E6o-XDag-muo",
        "colab_type": "code",
        "colab": {
          "base_uri": "https://localhost:8080/",
          "height": 435
        },
        "outputId": "b101334b-30e7-438b-fd87-191a18a39fc5"
      },
      "source": [
        "h = sns.catplot(x=\"Time\", kind=\"count\",\n",
        "            palette=\"pastel\", edgecolor=\".6\",\n",
        "            data=data_timing);\n",
        "h.set_xticklabels(['0-10 dias', '1 mês','2 meses','3 meses','4 meses','5 meses','6 meses', '> 6 meses'], rotation=90)\n",
        "h.set_axis_labels('Tempo decorrido entre o diagnóstico e a realização da Cultura', 'Número de Casos')"
      ],
      "execution_count": null,
      "outputs": [
        {
          "output_type": "execute_result",
          "data": {
            "text/plain": [
              "<seaborn.axisgrid.FacetGrid at 0x7fe883b0f400>"
            ]
          },
          "metadata": {
            "tags": []
          },
          "execution_count": 69
        },
        {
          "output_type": "display_data",
          "data": {
            "image/png": "[encoded data removed]",
            "text/plain": [
              "<Figure size 360x360 with 1 Axes>"
            ]
          },
          "metadata": {
            "tags": [],
            "needs_background": "light"
          }
        }
      ]
    },
    {
      "cell_type": "code",
      "metadata": {
        "id": "-NK2MHJXlVIx",
        "colab_type": "code",
        "colab": {
          "base_uri": "https://localhost:8080/",
          "height": 170
        },
        "outputId": "acaeed2d-dfc9-4c37-b5d1-eb6b5ad47703"
      },
      "source": [
        "data_timing.Time.value_counts(normalize= True) * 100"
      ],
      "execution_count": null,
      "outputs": [
        {
          "output_type": "execute_result",
          "data": {
            "text/plain": [
              "3    42.424242\n",
              "1    26.262626\n",
              "4     9.090909\n",
              "2     6.060606\n",
              "6     5.050505\n",
              "8     4.040404\n",
              "5     4.040404\n",
              "7     3.030303\n",
              "Name: Time, dtype: float64"
            ]
          },
          "metadata": {
            "tags": []
          },
          "execution_count": 70
        }
      ]
    },
    {
      "cell_type": "code",
      "metadata": {
        "id": "BcDKWVZAzbMl",
        "colab_type": "code",
        "colab": {
          "base_uri": "https://localhost:8080/",
          "height": 357
        },
        "outputId": "94003639-d20d-4adc-bd10-3163c8d63834"
      },
      "source": [
        "mask= data['TSA'] != 'Negativo'\n",
        "data2 = data[mask]\n",
        "data2.head()"
      ],
      "execution_count": null,
      "outputs": [
        {
          "output_type": "execute_result",
          "data": {
            "text/html": [
              "<div>\n",
              "<style scoped>\n",
              "    .dataframe tbody tr th:only-of-type {\n",
              "        vertical-align: middle;\n",
              "    }\n",
              "\n",
              "    .dataframe tbody tr th {\n",
              "        vertical-align: top;\n",
              "    }\n",
              "\n",
              "    .dataframe thead th {\n",
              "        text-align: right;\n",
              "    }\n",
              "</style>\n",
              "<table border=\"1\" class=\"dataframe\">\n",
              "  <thead>\n",
              "    <tr style=\"text-align: right;\">\n",
              "      <th></th>\n",
              "      <th>Nome</th>\n",
              "      <th>ID</th>\n",
              "      <th>HIV_TEST</th>\n",
              "      <th>Sexo</th>\n",
              "      <th>IDADE</th>\n",
              "      <th>CIDADE</th>\n",
              "      <th>DATA_TRM</th>\n",
              "      <th>MTB</th>\n",
              "      <th>RFP</th>\n",
              "      <th>DATA_CULTURA</th>\n",
              "      <th>RESULTADO</th>\n",
              "      <th>TSA</th>\n",
              "      <th>INH</th>\n",
              "      <th>RFP.1</th>\n",
              "      <th>BEM</th>\n",
              "      <th>SM</th>\n",
              "      <th>Dia</th>\n",
              "      <th>Mes</th>\n",
              "      <th>Ano</th>\n",
              "    </tr>\n",
              "  </thead>\n",
              "  <tbody>\n",
              "    <tr>\n",
              "      <th>61</th>\n",
              "      <td>JOAO EVANGELISTA FELIPE</td>\n",
              "      <td>269</td>\n",
              "      <td>0</td>\n",
              "      <td>M</td>\n",
              "      <td>5</td>\n",
              "      <td>CAMPO DE SANTANA</td>\n",
              "      <td>31/07/15</td>\n",
              "      <td>1</td>\n",
              "      <td>RESISTENTE</td>\n",
              "      <td>3/11/2016</td>\n",
              "      <td>P +++</td>\n",
              "      <td>Positivo</td>\n",
              "      <td>R</td>\n",
              "      <td>R</td>\n",
              "      <td>S</td>\n",
              "      <td>S</td>\n",
              "      <td>31</td>\n",
              "      <td>07</td>\n",
              "      <td>2015</td>\n",
              "    </tr>\n",
              "    <tr>\n",
              "      <th>63</th>\n",
              "      <td>ALBERTINA GUILHERME DA SILVA</td>\n",
              "      <td>347</td>\n",
              "      <td>0</td>\n",
              "      <td>F</td>\n",
              "      <td>8</td>\n",
              "      <td>SANTA RITA</td>\n",
              "      <td>8/19/2015</td>\n",
              "      <td>1</td>\n",
              "      <td>NÃO</td>\n",
              "      <td>11/20/2015</td>\n",
              "      <td>P +++</td>\n",
              "      <td>Positivo</td>\n",
              "      <td>R</td>\n",
              "      <td>S</td>\n",
              "      <td>S</td>\n",
              "      <td>S</td>\n",
              "      <td>8</td>\n",
              "      <td>19</td>\n",
              "      <td>2015</td>\n",
              "    </tr>\n",
              "    <tr>\n",
              "      <th>64</th>\n",
              "      <td>ALEXANDRA LOPES DE OLIVEIRA</td>\n",
              "      <td>372</td>\n",
              "      <td>0</td>\n",
              "      <td>F</td>\n",
              "      <td>2</td>\n",
              "      <td>JOÃO PESSOA</td>\n",
              "      <td>8/21/2015</td>\n",
              "      <td>1</td>\n",
              "      <td>NÃO</td>\n",
              "      <td>10/14/2015</td>\n",
              "      <td>P +++</td>\n",
              "      <td>Positivo</td>\n",
              "      <td>S</td>\n",
              "      <td>S</td>\n",
              "      <td>S</td>\n",
              "      <td>S</td>\n",
              "      <td>8</td>\n",
              "      <td>21</td>\n",
              "      <td>2015</td>\n",
              "    </tr>\n",
              "    <tr>\n",
              "      <th>76</th>\n",
              "      <td>LAIZA DE OLIVEIRA SILVA</td>\n",
              "      <td>277</td>\n",
              "      <td>0</td>\n",
              "      <td>F</td>\n",
              "      <td>3</td>\n",
              "      <td>JOÃO PESSOA</td>\n",
              "      <td>8/3/2015</td>\n",
              "      <td>1</td>\n",
              "      <td>NÃO</td>\n",
              "      <td>8/24/2015</td>\n",
              "      <td>P++</td>\n",
              "      <td>Positivo</td>\n",
              "      <td>S</td>\n",
              "      <td>S</td>\n",
              "      <td>S</td>\n",
              "      <td>S</td>\n",
              "      <td>8</td>\n",
              "      <td>3</td>\n",
              "      <td>2015</td>\n",
              "    </tr>\n",
              "    <tr>\n",
              "      <th>81</th>\n",
              "      <td>RAFAEL PEREIRA DOS SANTOS</td>\n",
              "      <td>338</td>\n",
              "      <td>0</td>\n",
              "      <td>M</td>\n",
              "      <td>4</td>\n",
              "      <td>JOÃO PESSOA</td>\n",
              "      <td>8/17/2015</td>\n",
              "      <td>1</td>\n",
              "      <td>RESISTENTE</td>\n",
              "      <td>8/20/2015</td>\n",
              "      <td>P +++</td>\n",
              "      <td>Positivo</td>\n",
              "      <td>R</td>\n",
              "      <td>R</td>\n",
              "      <td>S</td>\n",
              "      <td>R</td>\n",
              "      <td>8</td>\n",
              "      <td>17</td>\n",
              "      <td>2015</td>\n",
              "    </tr>\n",
              "  </tbody>\n",
              "</table>\n",
              "</div>"
            ],
            "text/plain": [
              "                            Nome   ID  HIV_TEST Sexo IDADE  ... BEM SM  Dia Mes   Ano\n",
              "61      JOAO EVANGELISTA FELIPE   269         0    M     5  ...   S  S   31  07  2015\n",
              "63  ALBERTINA GUILHERME DA SILVA  347         0    F     8  ...   S  S    8  19  2015\n",
              "64  ALEXANDRA LOPES DE OLIVEIRA   372         0    F     2  ...   S  S    8  21  2015\n",
              "76       LAIZA DE OLIVEIRA SILVA  277         0    F     3  ...   S  S    8   3  2015\n",
              "81     RAFAEL PEREIRA DOS SANTOS  338         0    M     4  ...   S  R    8  17  2015\n",
              "\n",
              "[5 rows x 19 columns]"
            ]
          },
          "metadata": {
            "tags": []
          },
          "execution_count": 79
        }
      ]
    },
    {
      "cell_type": "code",
      "metadata": {
        "id": "l_v_GcnO2wXU",
        "colab_type": "code",
        "colab": {
          "base_uri": "https://localhost:8080/",
          "height": 386
        },
        "outputId": "ba57a53d-85ce-4c60-9656-8884884692c4"
      },
      "source": [
        "g =sns.catplot(x=\"RFP.1\", order=[\"S\", \"R\"],\n",
        "            kind=\"count\", palette=\"pastel\", data=data2)\n",
        "g.set_xticklabels(['Sensível', 'Resistente'])\n",
        "g.set_axis_labels('TSA','Número de Casos')"
      ],
      "execution_count": null,
      "outputs": [
        {
          "output_type": "execute_result",
          "data": {
            "text/plain": [
              "<seaborn.axisgrid.FacetGrid at 0x7fe883a5f160>"
            ]
          },
          "metadata": {
            "tags": []
          },
          "execution_count": 74
        },
        {
          "output_type": "display_data",
          "data": {
            "image/png": "[encoded data removed]",
            "text/plain": [
              "<Figure size 360x360 with 1 Axes>"
            ]
          },
          "metadata": {
            "tags": [],
            "needs_background": "light"
          }
        }
      ]
    },
    {
      "cell_type": "code",
      "metadata": {
        "id": "KTerFlxp5XLW",
        "colab_type": "code",
        "colab": {
          "base_uri": "https://localhost:8080/",
          "height": 68
        },
        "outputId": "00217a9a-23b5-4cca-9538-064a6eeee024"
      },
      "source": [
        "data2['RFP.1'].value_counts(normalize=True) * 100"
      ],
      "execution_count": null,
      "outputs": [
        {
          "output_type": "execute_result",
          "data": {
            "text/plain": [
              "S    86.111111\n",
              "R    13.888889\n",
              "Name: RFP.1, dtype: float64"
            ]
          },
          "metadata": {
            "tags": []
          },
          "execution_count": 73
        }
      ]
    },
    {
      "cell_type": "code",
      "metadata": {
        "id": "1kz8avtsQxWe",
        "colab_type": "code",
        "colab": {
          "base_uri": "https://localhost:8080/",
          "height": 729
        },
        "outputId": "40a071bc-ddb9-43ad-cf5b-463c30396953"
      },
      "source": [
        "# Pie chart\n",
        "labels =  ['João Pessoa','Santa Rita','Bayeux','Sapé',\n",
        "'Cabedelo','Guarabira','Pitimbu','Patos','Alhandra',\n",
        "'Rio Tinto','Mamanguape','Pilar','Outras']\n",
        "sizes = [571,89,76,33,24,16,14,13,13,12,12,11,211]\n",
        "# only \"explode\" the 2nd slice (i.e. 'Hogs')\n",
        "colors = ['#ff9999','#66b3ff','#99ff99','#ffcc99', '#e7e1ef', '#c994c7', '#f7fcb9','#addd8e'] \n",
        "fig1, ax1 = plt.subplots(figsize=(15,10))\n",
        "ax1.pie(sizes, labels=labels, autopct='%1.1f%%', colors=colors, startangle=90)\n",
        "plt.title('Distribuição do Número de Casos por Cidade')\n",
        "ax1.axis('equal')  \n",
        "plt.tight_layout()\n",
        "plt.savefig('cidade.png')"
      ],
      "execution_count": null,
      "outputs": [
        {
          "output_type": "display_data",
          "data": {
            "image/png": "[encoded data removed]",
            "text/plain": [
              "<Figure size 1080x720 with 1 Axes>"
            ]
          },
          "metadata": {
            "tags": []
          }
        }
      ]
    },
    {
      "cell_type": "code",
      "metadata": {
        "id": "_nVdf-LxSXhq",
        "colab_type": "code",
        "colab": {
          "base_uri": "https://localhost:8080/",
          "height": 453
        },
        "outputId": "2e90135c-feb4-4902-ada8-2e1e85583f45"
      },
      "source": [
        "p = sns.catplot(y=labels, x=sizes, kind=\"bar\",\n",
        "            palette=\"pastel\", edgecolor=\".6\",\n",
        "            data=data);\n",
        "p.set_axis_labels('Número de Casos', 'Cidades')"
      ],
      "execution_count": null,
      "outputs": [
        {
          "output_type": "stream",
          "text": [
            "/usr/local/lib/python3.6/dist-packages/seaborn/axisgrid.py:856: UserWarning: Tight layout not applied. The bottom and top margins cannot be made large enough to accommodate all axes decorations. \n",
            "  self.fig.tight_layout()\n"
          ],
          "name": "stderr"
        },
        {
          "output_type": "execute_result",
          "data": {
            "text/plain": [
              "<seaborn.axisgrid.FacetGrid at 0x7fe8839a30f0>"
            ]
          },
          "metadata": {
            "tags": []
          },
          "execution_count": 78
        },
        {
          "output_type": "display_data",
          "data": {
            "image/png": "[encoded data removed]",
            "text/plain": [
              "<Figure size 360x360 with 1 Axes>"
            ]
          },
          "metadata": {
            "tags": [],
            "needs_background": "light"
          }
        }
      ]
    }
  ]
}
