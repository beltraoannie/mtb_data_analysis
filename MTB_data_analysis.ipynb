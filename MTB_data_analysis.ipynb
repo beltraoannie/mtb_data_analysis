{
  "nbformat": 4,
  "nbformat_minor": 0,
  "metadata": {
    "colab": {
      "name": "MTB_data_analysis.ipynb",
      "provenance": [],
      "collapsed_sections": []
    },
    "kernelspec": {
      "name": "python3",
      "display_name": "Python 3"
    }
  },
  "cells": [
    {
      "cell_type": "markdown",
      "metadata": {
        "id": "ZFv0zDv3tPh5",
        "colab_type": "text"
      },
      "source": [
        "**Importing libraries**"
      ]
    },
    {
      "cell_type": "code",
      "metadata": {
        "id": "_VTpDgTNej0N",
        "colab_type": "code",
        "colab": {}
      },
      "source": [
        "import pandas as pd\n",
        "import numpy as np\n",
        "import matplotlib.pyplot as plt\n",
        "import seaborn as sns"
      ],
      "execution_count": 83,
      "outputs": []
    },
    {
      "cell_type": "markdown",
      "metadata": {
        "id": "1rDd6TT5tknn",
        "colab_type": "text"
      },
      "source": [
        "**Opening data base**"
      ]
    },
    {
      "cell_type": "code",
      "metadata": {
        "id": "eg11iHH4ITn0",
        "colab_type": "code",
        "colab": {
          "base_uri": "https://localhost:8080/",
          "height": 272
        },
        "outputId": "e33e9b77-877e-4e91-ddb6-43ecd9dba147"
      },
      "source": [
        "data= pd.read_csv('data_nivea.csv')\n",
        "data.head()"
      ],
      "execution_count": 84,
      "outputs": [
        {
          "output_type": "execute_result",
          "data": {
            "text/html": [
              "<div>\n",
              "<style scoped>\n",
              "    .dataframe tbody tr th:only-of-type {\n",
              "        vertical-align: middle;\n",
              "    }\n",
              "\n",
              "    .dataframe tbody tr th {\n",
              "        vertical-align: top;\n",
              "    }\n",
              "\n",
              "    .dataframe thead th {\n",
              "        text-align: right;\n",
              "    }\n",
              "</style>\n",
              "<table border=\"1\" class=\"dataframe\">\n",
              "  <thead>\n",
              "    <tr style=\"text-align: right;\">\n",
              "      <th></th>\n",
              "      <th>Nome</th>\n",
              "      <th>ID</th>\n",
              "      <th>HIV_TEST</th>\n",
              "      <th>SEXO</th>\n",
              "      <th>IDADE</th>\n",
              "      <th>CIDADE</th>\n",
              "      <th>DATA_TRM</th>\n",
              "      <th>MTB</th>\n",
              "      <th>RFP</th>\n",
              "      <th>DATA_CULTURA</th>\n",
              "      <th>RESULTADO</th>\n",
              "      <th>TSA</th>\n",
              "      <th>INH</th>\n",
              "      <th>RFP.1</th>\n",
              "      <th>BEM</th>\n",
              "      <th>SM</th>\n",
              "    </tr>\n",
              "  </thead>\n",
              "  <tbody>\n",
              "    <tr>\n",
              "      <th>0</th>\n",
              "      <td>GENILSON PAULO DOS SANTOS</td>\n",
              "      <td>2.0</td>\n",
              "      <td>NaN</td>\n",
              "      <td>M</td>\n",
              "      <td>28.0</td>\n",
              "      <td>CABEDELO</td>\n",
              "      <td>5/8/2015</td>\n",
              "      <td>DETECTADO</td>\n",
              "      <td>NÃO</td>\n",
              "      <td>NaN</td>\n",
              "      <td>NaN</td>\n",
              "      <td>NaN</td>\n",
              "      <td>NaN</td>\n",
              "      <td>NaN</td>\n",
              "      <td>NaN</td>\n",
              "      <td>NaN</td>\n",
              "    </tr>\n",
              "    <tr>\n",
              "      <th>1</th>\n",
              "      <td>MARIA VITORIA BANDEIRA DA SILVA</td>\n",
              "      <td>9.0</td>\n",
              "      <td>NaN</td>\n",
              "      <td>F</td>\n",
              "      <td>38.0</td>\n",
              "      <td>JOÃO PESSOA</td>\n",
              "      <td>5/11/2015</td>\n",
              "      <td>DETECTADO</td>\n",
              "      <td>NÃO</td>\n",
              "      <td>NaN</td>\n",
              "      <td>NaN</td>\n",
              "      <td>NaN</td>\n",
              "      <td>NaN</td>\n",
              "      <td>NaN</td>\n",
              "      <td>NaN</td>\n",
              "      <td>NaN</td>\n",
              "    </tr>\n",
              "    <tr>\n",
              "      <th>2</th>\n",
              "      <td>CASSIANO JOSE DA COSTA JUNIO</td>\n",
              "      <td>10.0</td>\n",
              "      <td>NaN</td>\n",
              "      <td>M</td>\n",
              "      <td>21.0</td>\n",
              "      <td>SANTA RITA</td>\n",
              "      <td>5/12/2015</td>\n",
              "      <td>DETECTADO</td>\n",
              "      <td>NÃO</td>\n",
              "      <td>NaN</td>\n",
              "      <td>NaN</td>\n",
              "      <td>NaN</td>\n",
              "      <td>NaN</td>\n",
              "      <td>NaN</td>\n",
              "      <td>NaN</td>\n",
              "      <td>NaN</td>\n",
              "    </tr>\n",
              "    <tr>\n",
              "      <th>3</th>\n",
              "      <td>DANIEL CARLOS SILVA DE SOUZA</td>\n",
              "      <td>21.0</td>\n",
              "      <td>SIM</td>\n",
              "      <td>M</td>\n",
              "      <td>26.0</td>\n",
              "      <td>JOÃO PESSOA</td>\n",
              "      <td>5/14/2015</td>\n",
              "      <td>DETECTADO</td>\n",
              "      <td>NÃO</td>\n",
              "      <td>NaN</td>\n",
              "      <td>NaN</td>\n",
              "      <td>NaN</td>\n",
              "      <td>NaN</td>\n",
              "      <td>NaN</td>\n",
              "      <td>NaN</td>\n",
              "      <td>NaN</td>\n",
              "    </tr>\n",
              "    <tr>\n",
              "      <th>4</th>\n",
              "      <td>SEVERINO HELENO DA SILVA</td>\n",
              "      <td>28.0</td>\n",
              "      <td>NaN</td>\n",
              "      <td>M</td>\n",
              "      <td>48.0</td>\n",
              "      <td>RIO TINTO</td>\n",
              "      <td>5/19/2015</td>\n",
              "      <td>DETECTADO</td>\n",
              "      <td>NÃO</td>\n",
              "      <td>NaN</td>\n",
              "      <td>NaN</td>\n",
              "      <td>NaN</td>\n",
              "      <td>NaN</td>\n",
              "      <td>NaN</td>\n",
              "      <td>NaN</td>\n",
              "      <td>NaN</td>\n",
              "    </tr>\n",
              "  </tbody>\n",
              "</table>\n",
              "</div>"
            ],
            "text/plain": [
              "                              Nome    ID HIV_TEST SEXO  ...  INH RFP.1  BEM   SM\n",
              "0        GENILSON PAULO DOS SANTOS   2.0      NaN    M  ...  NaN   NaN  NaN  NaN\n",
              "1  MARIA VITORIA BANDEIRA DA SILVA   9.0      NaN    F  ...  NaN   NaN  NaN  NaN\n",
              "2     CASSIANO JOSE DA COSTA JUNIO  10.0      NaN    M  ...  NaN   NaN  NaN  NaN\n",
              "3     DANIEL CARLOS SILVA DE SOUZA  21.0      SIM    M  ...  NaN   NaN  NaN  NaN\n",
              "4         SEVERINO HELENO DA SILVA  28.0      NaN    M  ...  NaN   NaN  NaN  NaN\n",
              "\n",
              "[5 rows x 16 columns]"
            ]
          },
          "metadata": {
            "tags": []
          },
          "execution_count": 84
        }
      ]
    },
    {
      "cell_type": "markdown",
      "metadata": {
        "id": "QRijI8FWuLCu",
        "colab_type": "text"
      },
      "source": [
        "**Filling missing values and standardizing categorical values**"
      ]
    },
    {
      "cell_type": "code",
      "metadata": {
        "id": "zSwJcsjiI5_k",
        "colab_type": "code",
        "colab": {
          "base_uri": "https://localhost:8080/",
          "height": 204
        },
        "outputId": "fa900d0a-31f8-48ca-fd30-8305bd1e4211"
      },
      "source": [
        "data = data.rename(columns={\"SEXO\":\"Sexo\"})\n",
        "clean_2 = {\n",
        "         \"HIV_TEST\":{\"SIM\":1},\n",
        "          \"MTB\": {\"DETECTADO\":1},\n",
        "          \"Ano\":{\"15\":\"2015\"},\n",
        "          \"CIDADE\":{\"JOAO PESSOA\": \"JOÃO PESSOA\"},\n",
        "          \"RESULTADO\":{\"P+++\": \"P +++\"},\n",
        "          \"RFP.1\":{\"s\": \"S\"},\n",
        "          \"TSA\":{\"SIm\": \"SIM\",\"Sim\": \"SIM\"},\n",
        "          \"INH\":{\"s\": \"S\"},\n",
        "          \"BEM\":{\"s\": \"S\"},\n",
        "          \"SM\":{\"s\": \"S\"},\n",
        "          \"RFP\":{\"NÃO \":\"NÃO\"},\n",
        "          \"TSA\":{\"0\":\"Negativo\", \"SIM\": \"Positivo\", \"Sim\":\"Positivo\", \"SIm\":\"Positivo\"}\n",
        "                }\n",
        "data.replace(clean_2, inplace=True)\n",
        "\n",
        "data = data.fillna(\"0\")\n",
        "\n",
        "data['HIV_TEST']=data['HIV_TEST'].astype(int)\n",
        "data['IDADE']=data['IDADE'].astype(int)\n",
        "data.head()"
      ],
      "execution_count": 85,
      "outputs": [
        {
          "output_type": "execute_result",
          "data": {
            "text/html": [
              "<div>\n",
              "<style scoped>\n",
              "    .dataframe tbody tr th:only-of-type {\n",
              "        vertical-align: middle;\n",
              "    }\n",
              "\n",
              "    .dataframe tbody tr th {\n",
              "        vertical-align: top;\n",
              "    }\n",
              "\n",
              "    .dataframe thead th {\n",
              "        text-align: right;\n",
              "    }\n",
              "</style>\n",
              "<table border=\"1\" class=\"dataframe\">\n",
              "  <thead>\n",
              "    <tr style=\"text-align: right;\">\n",
              "      <th></th>\n",
              "      <th>Nome</th>\n",
              "      <th>ID</th>\n",
              "      <th>HIV_TEST</th>\n",
              "      <th>Sexo</th>\n",
              "      <th>IDADE</th>\n",
              "      <th>CIDADE</th>\n",
              "      <th>DATA_TRM</th>\n",
              "      <th>MTB</th>\n",
              "      <th>RFP</th>\n",
              "      <th>DATA_CULTURA</th>\n",
              "      <th>RESULTADO</th>\n",
              "      <th>TSA</th>\n",
              "      <th>INH</th>\n",
              "      <th>RFP.1</th>\n",
              "      <th>BEM</th>\n",
              "      <th>SM</th>\n",
              "    </tr>\n",
              "  </thead>\n",
              "  <tbody>\n",
              "    <tr>\n",
              "      <th>0</th>\n",
              "      <td>GENILSON PAULO DOS SANTOS</td>\n",
              "      <td>2</td>\n",
              "      <td>0</td>\n",
              "      <td>M</td>\n",
              "      <td>28</td>\n",
              "      <td>CABEDELO</td>\n",
              "      <td>5/8/2015</td>\n",
              "      <td>1</td>\n",
              "      <td>NÃO</td>\n",
              "      <td>0</td>\n",
              "      <td>0</td>\n",
              "      <td>0</td>\n",
              "      <td>0</td>\n",
              "      <td>0</td>\n",
              "      <td>0</td>\n",
              "      <td>0</td>\n",
              "    </tr>\n",
              "    <tr>\n",
              "      <th>1</th>\n",
              "      <td>MARIA VITORIA BANDEIRA DA SILVA</td>\n",
              "      <td>9</td>\n",
              "      <td>0</td>\n",
              "      <td>F</td>\n",
              "      <td>38</td>\n",
              "      <td>JOÃO PESSOA</td>\n",
              "      <td>5/11/2015</td>\n",
              "      <td>1</td>\n",
              "      <td>NÃO</td>\n",
              "      <td>0</td>\n",
              "      <td>0</td>\n",
              "      <td>0</td>\n",
              "      <td>0</td>\n",
              "      <td>0</td>\n",
              "      <td>0</td>\n",
              "      <td>0</td>\n",
              "    </tr>\n",
              "    <tr>\n",
              "      <th>2</th>\n",
              "      <td>CASSIANO JOSE DA COSTA JUNIO</td>\n",
              "      <td>10</td>\n",
              "      <td>0</td>\n",
              "      <td>M</td>\n",
              "      <td>21</td>\n",
              "      <td>SANTA RITA</td>\n",
              "      <td>5/12/2015</td>\n",
              "      <td>1</td>\n",
              "      <td>NÃO</td>\n",
              "      <td>0</td>\n",
              "      <td>0</td>\n",
              "      <td>0</td>\n",
              "      <td>0</td>\n",
              "      <td>0</td>\n",
              "      <td>0</td>\n",
              "      <td>0</td>\n",
              "    </tr>\n",
              "    <tr>\n",
              "      <th>3</th>\n",
              "      <td>DANIEL CARLOS SILVA DE SOUZA</td>\n",
              "      <td>21</td>\n",
              "      <td>1</td>\n",
              "      <td>M</td>\n",
              "      <td>26</td>\n",
              "      <td>JOÃO PESSOA</td>\n",
              "      <td>5/14/2015</td>\n",
              "      <td>1</td>\n",
              "      <td>NÃO</td>\n",
              "      <td>0</td>\n",
              "      <td>0</td>\n",
              "      <td>0</td>\n",
              "      <td>0</td>\n",
              "      <td>0</td>\n",
              "      <td>0</td>\n",
              "      <td>0</td>\n",
              "    </tr>\n",
              "    <tr>\n",
              "      <th>4</th>\n",
              "      <td>SEVERINO HELENO DA SILVA</td>\n",
              "      <td>28</td>\n",
              "      <td>0</td>\n",
              "      <td>M</td>\n",
              "      <td>48</td>\n",
              "      <td>RIO TINTO</td>\n",
              "      <td>5/19/2015</td>\n",
              "      <td>1</td>\n",
              "      <td>NÃO</td>\n",
              "      <td>0</td>\n",
              "      <td>0</td>\n",
              "      <td>0</td>\n",
              "      <td>0</td>\n",
              "      <td>0</td>\n",
              "      <td>0</td>\n",
              "      <td>0</td>\n",
              "    </tr>\n",
              "  </tbody>\n",
              "</table>\n",
              "</div>"
            ],
            "text/plain": [
              "                              Nome  ID  HIV_TEST Sexo  ...  INH RFP.1 BEM  SM\n",
              "0        GENILSON PAULO DOS SANTOS   2         0    M  ...    0     0   0   0\n",
              "1  MARIA VITORIA BANDEIRA DA SILVA   9         0    F  ...    0     0   0   0\n",
              "2     CASSIANO JOSE DA COSTA JUNIO  10         0    M  ...    0     0   0   0\n",
              "3     DANIEL CARLOS SILVA DE SOUZA  21         1    M  ...    0     0   0   0\n",
              "4         SEVERINO HELENO DA SILVA  28         0    M  ...    0     0   0   0\n",
              "\n",
              "[5 rows x 16 columns]"
            ]
          },
          "metadata": {
            "tags": []
          },
          "execution_count": 85
        }
      ]
    },
    {
      "cell_type": "markdown",
      "metadata": {
        "id": "V9Vqbl4duuT4",
        "colab_type": "text"
      },
      "source": [
        "**Plotting Prevalences**"
      ]
    },
    {
      "cell_type": "markdown",
      "metadata": {
        "id": "QbLt6eeou4TJ",
        "colab_type": "text"
      },
      "source": [
        "**Prevalence of tuberculosis cases by sex**"
      ]
    },
    {
      "cell_type": "code",
      "metadata": {
        "id": "TuB5xCN5D1iA",
        "colab_type": "code",
        "colab": {
          "base_uri": "https://localhost:8080/",
          "height": 386
        },
        "outputId": "268738de-1565-4000-9515-66274510dc61"
      },
      "source": [
        "g =sns.catplot(x=\"Sexo\", kind=\"count\",  data=data, palette=\"pastel\", estimator=lambda x:  len(data))\n",
        "g.set_xticklabels(['Posito', 'Negativo'])\n",
        "g.set_axis_labels('Sexo', 'Número de Casos')\n",
        "g.set_xticklabels(['Masculino', 'Feminino'])"
      ],
      "execution_count": 86,
      "outputs": [
        {
          "output_type": "execute_result",
          "data": {
            "text/plain": [
              "<seaborn.axisgrid.FacetGrid at 0x7fe882115160>"
            ]
          },
          "metadata": {
            "tags": []
          },
          "execution_count": 86
        },
        {
          "output_type": "display_data",
          "data": {
            "image/png": "[encoded data removed]",
            "text/plain": [
              "<Figure size 360x360 with 1 Axes>"
            ]
          },
          "metadata": {
            "tags": [],
            "needs_background": "light"
          }
        }
      ]
    },
    {
      "cell_type": "code",
      "metadata": {
        "id": "qmesmksUjvo0",
        "colab_type": "code",
        "colab": {
          "base_uri": "https://localhost:8080/",
          "height": 68
        },
        "outputId": "a5194818-d9b7-4d63-eece-dc0c93320059"
      },
      "source": [
        "data.Sexo.value_counts(normalize=True) * 100"
      ],
      "execution_count": 87,
      "outputs": [
        {
          "output_type": "execute_result",
          "data": {
            "text/plain": [
              "M    72.968037\n",
              "F    27.031963\n",
              "Name: Sexo, dtype: float64"
            ]
          },
          "metadata": {
            "tags": []
          },
          "execution_count": 87
        }
      ]
    },
    {
      "cell_type": "markdown",
      "metadata": {
        "id": "c6bnCvtOvyT7",
        "colab_type": "text"
      },
      "source": [
        "**Prevalence of HIV-TB co-infection**"
      ]
    },
    {
      "cell_type": "code",
      "metadata": {
        "id": "_o2Brwl0nFvG",
        "colab_type": "code",
        "colab": {
          "base_uri": "https://localhost:8080/",
          "height": 386
        },
        "outputId": "b48d33c6-ce1d-440a-f89d-ffc4573e7b66"
      },
      "source": [
        "h =sns.catplot(x=\"HIV_TEST\", kind=\"count\",  data=data, palette=\"pastel\", estimator=lambda x:  len(data))\n",
        "h.set_xticklabels(['Negativo', 'Positivo'])\n",
        "h.set_axis_labels('Teste de HIV', 'Número de Casos')"
      ],
      "execution_count": 88,
      "outputs": [
        {
          "output_type": "execute_result",
          "data": {
            "text/plain": [
              "<seaborn.axisgrid.FacetGrid at 0x7fe883af3240>"
            ]
          },
          "metadata": {
            "tags": []
          },
          "execution_count": 88
        },
        {
          "output_type": "display_data",
          "data": {
            "image/png": "[encoded data removed]",
            "text/plain": [
              "<Figure size 360x360 with 1 Axes>"
            ]
          },
          "metadata": {
            "tags": [],
            "needs_background": "light"
          }
        }
      ]
    },
    {
      "cell_type": "code",
      "metadata": {
        "id": "guxg_4MBkBgh",
        "colab_type": "code",
        "colab": {
          "base_uri": "https://localhost:8080/",
          "height": 68
        },
        "outputId": "a5e36ae7-fa6e-4f4c-f0cf-37fba51179a1"
      },
      "source": [
        "data.HIV_TEST.value_counts(normalize=True) * 100"
      ],
      "execution_count": 89,
      "outputs": [
        {
          "output_type": "execute_result",
          "data": {
            "text/plain": [
              "0    93.607306\n",
              "1     6.392694\n",
              "Name: HIV_TEST, dtype: float64"
            ]
          },
          "metadata": {
            "tags": []
          },
          "execution_count": 89
        }
      ]
    },
    {
      "cell_type": "markdown",
      "metadata": {
        "id": "reyjY9u3wCqN",
        "colab_type": "text"
      },
      "source": [
        "**Index of patients who underwent TRM and TSA exams**"
      ]
    },
    {
      "cell_type": "code",
      "metadata": {
        "id": "oOq7UXp0NuI8",
        "colab_type": "code",
        "colab": {
          "base_uri": "https://localhost:8080/",
          "height": 386
        },
        "outputId": "2f461df1-409a-44d2-d3d0-92946d2ae4bd"
      },
      "source": [
        "t = sns.catplot(x=\"TSA\", kind=\"count\",\n",
        "            palette=\"pastel\", edgecolor=\".6\",\n",
        "            data=data);\n",
        "t.set_xticklabels(['Apenas TRM', 'Outros exames'])\n",
        "t.set_axis_labels('Exames', 'Quantidade de Pacientes')"
      ],
      "execution_count": 90,
      "outputs": [
        {
          "output_type": "execute_result",
          "data": {
            "text/plain": [
              "<seaborn.axisgrid.FacetGrid at 0x7fe8848fc7f0>"
            ]
          },
          "metadata": {
            "tags": []
          },
          "execution_count": 90
        },
        {
          "output_type": "display_data",
          "data": {
            "image/png": "[encoded data removed]",
            "text/plain": [
              "<Figure size 360x360 with 1 Axes>"
            ]
          },
          "metadata": {
            "tags": [],
            "needs_background": "light"
          }
        }
      ]
    },
    {
      "cell_type": "code",
      "metadata": {
        "id": "AMud_d3CkHCp",
        "colab_type": "code",
        "colab": {
          "base_uri": "https://localhost:8080/",
          "height": 68
        },
        "outputId": "bd0be441-9b74-423a-a775-20c8dad4e139"
      },
      "source": [
        "data.TSA.value_counts(normalize=True) * 100"
      ],
      "execution_count": 91,
      "outputs": [
        {
          "output_type": "execute_result",
          "data": {
            "text/plain": [
              "0           90.136986\n",
              "Positivo     9.863014\n",
              "Name: TSA, dtype: float64"
            ]
          },
          "metadata": {
            "tags": []
          },
          "execution_count": 91
        }
      ]
    },
    {
      "cell_type": "markdown",
      "metadata": {
        "id": "IzvbANhGwJsO",
        "colab_type": "text"
      },
      "source": [
        "**Mutation spectrum index detected by TRM**"
      ]
    },
    {
      "cell_type": "code",
      "metadata": {
        "id": "gK-tCDVtGYzF",
        "colab_type": "code",
        "colab": {
          "base_uri": "https://localhost:8080/",
          "height": 386
        },
        "outputId": "65632c9b-53f7-4720-91ad-7185e1f2dc22"
      },
      "source": [
        "g =sns.catplot(x=\"RFP\",\n",
        "            kind=\"count\", palette=\"pastel\", data=data)\n",
        "g.set_xticklabels(['Não Detectada', 'Detectada'])\n",
        "g.set_axis_labels('TRM', 'Número de Casos')"
      ],
      "execution_count": 92,
      "outputs": [
        {
          "output_type": "execute_result",
          "data": {
            "text/plain": [
              "<seaborn.axisgrid.FacetGrid at 0x7fe881df2278>"
            ]
          },
          "metadata": {
            "tags": []
          },
          "execution_count": 92
        },
        {
          "output_type": "display_data",
          "data": {
            "image/png": "[encoded data removed]",
            "text/plain": [
              "<Figure size 360x360 with 1 Axes>"
            ]
          },
          "metadata": {
            "tags": [],
            "needs_background": "light"
          }
        }
      ]
    },
    {
      "cell_type": "code",
      "metadata": {
        "id": "Cumy2hjikQlH",
        "colab_type": "code",
        "colab": {
          "base_uri": "https://localhost:8080/",
          "height": 68
        },
        "outputId": "d79a2727-7dee-40a5-b704-018af9a44b66"
      },
      "source": [
        "data.RFP.value_counts(normalize=True) * 100"
      ],
      "execution_count": 93,
      "outputs": [
        {
          "output_type": "execute_result",
          "data": {
            "text/plain": [
              "NÃO           95.525114\n",
              "RESISTENTE     4.474886\n",
              "Name: RFP, dtype: float64"
            ]
          },
          "metadata": {
            "tags": []
          },
          "execution_count": 93
        }
      ]
    },
    {
      "cell_type": "markdown",
      "metadata": {
        "id": "arK3nSbpwYvj",
        "colab_type": "text"
      },
      "source": [
        "**Prevalence of tuberculosis cases by age**"
      ]
    },
    {
      "cell_type": "code",
      "metadata": {
        "id": "g3ckIQ4rNaX4",
        "colab_type": "code",
        "colab": {}
      },
      "source": [
        "bins = [0,10,20,30,40,50,60,70,80,90]\n",
        "labels=[1,2,3,4,5,6,7,8,9]\n",
        "data['IDADE'] = pd.cut(data['IDADE'], bins=bins, labels=labels, right=False)"
      ],
      "execution_count": 94,
      "outputs": []
    },
    {
      "cell_type": "code",
      "metadata": {
        "id": "gq7TMhx2SK0n",
        "colab_type": "code",
        "colab": {
          "base_uri": "https://localhost:8080/",
          "height": 408
        },
        "outputId": "2aea2d22-97e2-4896-dc21-afd1e62c6610"
      },
      "source": [
        "s = sns.catplot(x=\"IDADE\", kind=\"count\",\n",
        "            palette=\"pastel\", edgecolor=\".6\",\n",
        "            data=data);\n",
        "s.set_xticklabels(['0-10', '10-20','20-30','30-40','40-50','50-60','60-70', '70-80', '80-90'], rotation= 90)\n",
        "s.set_axis_labels('Idade', 'Número de Casos')"
      ],
      "execution_count": 95,
      "outputs": [
        {
          "output_type": "execute_result",
          "data": {
            "text/plain": [
              "<seaborn.axisgrid.FacetGrid at 0x7fe882115be0>"
            ]
          },
          "metadata": {
            "tags": []
          },
          "execution_count": 95
        },
        {
          "output_type": "display_data",
          "data": {
            "image/png": "[encoded data removed]",
            "text/plain": [
              "<Figure size 360x360 with 1 Axes>"
            ]
          },
          "metadata": {
            "tags": [],
            "needs_background": "light"
          }
        }
      ]
    },
    {
      "cell_type": "code",
      "metadata": {
        "id": "toE6KrbxkXsl",
        "colab_type": "code",
        "colab": {
          "base_uri": "https://localhost:8080/",
          "height": 187
        },
        "outputId": "49a9d53b-21f3-4916-81e9-e457ce2bf18b"
      },
      "source": [
        "data.IDADE.value_counts(normalize=True) * 100"
      ],
      "execution_count": 96,
      "outputs": [
        {
          "output_type": "execute_result",
          "data": {
            "text/plain": [
              "4    24.289643\n",
              "3    24.106324\n",
              "5    18.056829\n",
              "6    14.665445\n",
              "7     7.974335\n",
              "2     7.332722\n",
              "8     3.116407\n",
              "9     0.366636\n",
              "1     0.091659\n",
              "Name: IDADE, dtype: float64"
            ]
          },
          "metadata": {
            "tags": []
          },
          "execution_count": 96
        }
      ]
    },
    {
      "cell_type": "markdown",
      "metadata": {
        "id": "pg7weYyPwhqQ",
        "colab_type": "text"
      },
      "source": [
        "**Main drugs that showed resistance in the TSA**"
      ]
    },
    {
      "cell_type": "code",
      "metadata": {
        "id": "HqXbfTt1oGXG",
        "colab_type": "code",
        "colab": {}
      },
      "source": [
        "df = data[['INH','RFP.1','BEM','SM']]\n",
        "df = df.rename(columns={\"RFP.1\":\"RMP\",\"BEM\":\"EMB\"})\n",
        "\n",
        "clean_4 = {\n",
        "                \"INH\":{\"0\":\"Negativo\", \"S\": \"Sensível\", \"R\":\"Resistente\"},\n",
        "                \"RMP\":{\"0\":\"Negativo\", \"S\": \"Sensível\", \"R\":\"Resistente\"},\n",
        "                \"EMB\":{\"0\":\"Negativo\", \"S\": \"Sensível\", \"R\":\"Resistente\"},\n",
        "                \"SM\":{\"0\":\"Negativo\", \"S\": \"Sensível\", \"R\":\"Resistente\"},\n",
        "                }\n",
        "\n",
        "df.replace(clean_4, inplace=True)\n"
      ],
      "execution_count": 97,
      "outputs": []
    },
    {
      "cell_type": "code",
      "metadata": {
        "id": "UCUK36kOjN6U",
        "colab_type": "code",
        "colab": {}
      },
      "source": [
        "pieces = []\n",
        "for col in df.columns:\n",
        "    tmp_series = df[col].value_counts()\n",
        "    tmp_series.name = col\n",
        "    pieces.append(tmp_series)\n",
        "    \n",
        "df_value_counts = pd.concat(pieces, axis=1)"
      ],
      "execution_count": 98,
      "outputs": []
    },
    {
      "cell_type": "code",
      "metadata": {
        "id": "UqBjugKWs1hp",
        "colab_type": "code",
        "colab": {}
      },
      "source": [
        "df_value_counts =  df_value_counts[1:]"
      ],
      "execution_count": 99,
      "outputs": []
    },
    {
      "cell_type": "code",
      "metadata": {
        "id": "yce6G_bzk0h7",
        "colab_type": "code",
        "colab": {
          "base_uri": "https://localhost:8080/",
          "height": 285
        },
        "outputId": "ca85a3bb-1328-4dfc-fb9f-9d4ff53696f3"
      },
      "source": [
        "df_value_counts.plot(kind='bar', colormap= 'Pastel1', rot= 0)\n",
        "plt.ylabel('Número de Testes')"
      ],
      "execution_count": 100,
      "outputs": [
        {
          "output_type": "execute_result",
          "data": {
            "text/plain": [
              "Text(0, 0.5, 'Número de Testes')"
            ]
          },
          "metadata": {
            "tags": []
          },
          "execution_count": 100
        },
        {
          "output_type": "display_data",
          "data": {
            "image/png": "[encoded data removed]",
            "text/plain": [
              "<Figure size 432x288 with 1 Axes>"
            ]
          },
          "metadata": {
            "tags": [],
            "needs_background": "light"
          }
        }
      ]
    },
    {
      "cell_type": "markdown",
      "metadata": {
        "id": "ykyALI9pws1s",
        "colab_type": "text"
      },
      "source": [
        "**Time between diagnosis by MRT and culture examination**"
      ]
    },
    {
      "cell_type": "code",
      "metadata": {
        "id": "nSCJk9D9geQW",
        "colab_type": "code",
        "colab": {
          "base_uri": "https://localhost:8080/",
          "height": 204
        },
        "outputId": "e07c61cd-3fc5-455f-9d8b-981333f6d6d7"
      },
      "source": [
        "data_time= data[['DATA_TRM', 'DATA_CULTURA']]\n",
        "data_time.head()"
      ],
      "execution_count": 101,
      "outputs": [
        {
          "output_type": "execute_result",
          "data": {
            "text/html": [
              "<div>\n",
              "<style scoped>\n",
              "    .dataframe tbody tr th:only-of-type {\n",
              "        vertical-align: middle;\n",
              "    }\n",
              "\n",
              "    .dataframe tbody tr th {\n",
              "        vertical-align: top;\n",
              "    }\n",
              "\n",
              "    .dataframe thead th {\n",
              "        text-align: right;\n",
              "    }\n",
              "</style>\n",
              "<table border=\"1\" class=\"dataframe\">\n",
              "  <thead>\n",
              "    <tr style=\"text-align: right;\">\n",
              "      <th></th>\n",
              "      <th>DATA_TRM</th>\n",
              "      <th>DATA_CULTURA</th>\n",
              "    </tr>\n",
              "  </thead>\n",
              "  <tbody>\n",
              "    <tr>\n",
              "      <th>0</th>\n",
              "      <td>5/8/2015</td>\n",
              "      <td>0</td>\n",
              "    </tr>\n",
              "    <tr>\n",
              "      <th>1</th>\n",
              "      <td>5/11/2015</td>\n",
              "      <td>0</td>\n",
              "    </tr>\n",
              "    <tr>\n",
              "      <th>2</th>\n",
              "      <td>5/12/2015</td>\n",
              "      <td>0</td>\n",
              "    </tr>\n",
              "    <tr>\n",
              "      <th>3</th>\n",
              "      <td>5/14/2015</td>\n",
              "      <td>0</td>\n",
              "    </tr>\n",
              "    <tr>\n",
              "      <th>4</th>\n",
              "      <td>5/19/2015</td>\n",
              "      <td>0</td>\n",
              "    </tr>\n",
              "  </tbody>\n",
              "</table>\n",
              "</div>"
            ],
            "text/plain": [
              "    DATA_TRM DATA_CULTURA\n",
              "0   5/8/2015            0\n",
              "1  5/11/2015            0\n",
              "2  5/12/2015            0\n",
              "3  5/14/2015            0\n",
              "4  5/19/2015            0"
            ]
          },
          "metadata": {
            "tags": []
          },
          "execution_count": 101
        }
      ]
    },
    {
      "cell_type": "code",
      "metadata": {
        "id": "vfQAnVWmr17R",
        "colab_type": "code",
        "colab": {}
      },
      "source": [
        "mask = data_time['DATA_CULTURA'] != '0'\n",
        "data_timing = data_time[mask]"
      ],
      "execution_count": 103,
      "outputs": []
    },
    {
      "cell_type": "code",
      "metadata": {
        "id": "cwq4ScvAtCHK",
        "colab_type": "code",
        "colab": {}
      },
      "source": [
        "data_timing = data_timing.apply(pd.to_datetime)"
      ],
      "execution_count": 104,
      "outputs": []
    },
    {
      "cell_type": "code",
      "metadata": {
        "id": "UDDDfUaa_Xvn",
        "colab_type": "code",
        "colab": {
          "base_uri": "https://localhost:8080/",
          "height": 204
        },
        "outputId": "a8d747be-43bf-432d-d679-32d2ffad0663"
      },
      "source": [
        "data_timing.head()"
      ],
      "execution_count": 105,
      "outputs": [
        {
          "output_type": "execute_result",
          "data": {
            "text/html": [
              "<div>\n",
              "<style scoped>\n",
              "    .dataframe tbody tr th:only-of-type {\n",
              "        vertical-align: middle;\n",
              "    }\n",
              "\n",
              "    .dataframe tbody tr th {\n",
              "        vertical-align: top;\n",
              "    }\n",
              "\n",
              "    .dataframe thead th {\n",
              "        text-align: right;\n",
              "    }\n",
              "</style>\n",
              "<table border=\"1\" class=\"dataframe\">\n",
              "  <thead>\n",
              "    <tr style=\"text-align: right;\">\n",
              "      <th></th>\n",
              "      <th>DATA_TRM</th>\n",
              "      <th>DATA_CULTURA</th>\n",
              "    </tr>\n",
              "  </thead>\n",
              "  <tbody>\n",
              "    <tr>\n",
              "      <th>61</th>\n",
              "      <td>2015-07-31</td>\n",
              "      <td>2016-03-11</td>\n",
              "    </tr>\n",
              "    <tr>\n",
              "      <th>63</th>\n",
              "      <td>2015-08-19</td>\n",
              "      <td>2015-11-20</td>\n",
              "    </tr>\n",
              "    <tr>\n",
              "      <th>64</th>\n",
              "      <td>2015-08-21</td>\n",
              "      <td>2015-10-14</td>\n",
              "    </tr>\n",
              "    <tr>\n",
              "      <th>76</th>\n",
              "      <td>2015-08-03</td>\n",
              "      <td>2015-08-24</td>\n",
              "    </tr>\n",
              "    <tr>\n",
              "      <th>81</th>\n",
              "      <td>2015-08-17</td>\n",
              "      <td>2015-08-20</td>\n",
              "    </tr>\n",
              "  </tbody>\n",
              "</table>\n",
              "</div>"
            ],
            "text/plain": [
              "     DATA_TRM DATA_CULTURA\n",
              "61 2015-07-31   2016-03-11\n",
              "63 2015-08-19   2015-11-20\n",
              "64 2015-08-21   2015-10-14\n",
              "76 2015-08-03   2015-08-24\n",
              "81 2015-08-17   2015-08-20"
            ]
          },
          "metadata": {
            "tags": []
          },
          "execution_count": 105
        }
      ]
    },
    {
      "cell_type": "code",
      "metadata": {
        "id": "CWhcMPcxz9BP",
        "colab_type": "code",
        "colab": {
          "base_uri": "https://localhost:8080/",
          "height": 204
        },
        "outputId": "c97b41fe-a92d-48d1-a967-f20562fce9aa"
      },
      "source": [
        "data_timing['Difference'] = data_timing['DATA_CULTURA'].sub(data_timing['DATA_TRM'], axis=0)  \n",
        "data_timing['Difference']= data_timing['Difference'].astype(str)\n",
        "data_timing.head()"
      ],
      "execution_count": 106,
      "outputs": [
        {
          "output_type": "execute_result",
          "data": {
            "text/html": [
              "<div>\n",
              "<style scoped>\n",
              "    .dataframe tbody tr th:only-of-type {\n",
              "        vertical-align: middle;\n",
              "    }\n",
              "\n",
              "    .dataframe tbody tr th {\n",
              "        vertical-align: top;\n",
              "    }\n",
              "\n",
              "    .dataframe thead th {\n",
              "        text-align: right;\n",
              "    }\n",
              "</style>\n",
              "<table border=\"1\" class=\"dataframe\">\n",
              "  <thead>\n",
              "    <tr style=\"text-align: right;\">\n",
              "      <th></th>\n",
              "      <th>DATA_TRM</th>\n",
              "      <th>DATA_CULTURA</th>\n",
              "      <th>Difference</th>\n",
              "    </tr>\n",
              "  </thead>\n",
              "  <tbody>\n",
              "    <tr>\n",
              "      <th>61</th>\n",
              "      <td>2015-07-31</td>\n",
              "      <td>2016-03-11</td>\n",
              "      <td>224 days 00:00:00.000000000</td>\n",
              "    </tr>\n",
              "    <tr>\n",
              "      <th>63</th>\n",
              "      <td>2015-08-19</td>\n",
              "      <td>2015-11-20</td>\n",
              "      <td>93 days 00:00:00.000000000</td>\n",
              "    </tr>\n",
              "    <tr>\n",
              "      <th>64</th>\n",
              "      <td>2015-08-21</td>\n",
              "      <td>2015-10-14</td>\n",
              "      <td>54 days 00:00:00.000000000</td>\n",
              "    </tr>\n",
              "    <tr>\n",
              "      <th>76</th>\n",
              "      <td>2015-08-03</td>\n",
              "      <td>2015-08-24</td>\n",
              "      <td>21 days 00:00:00.000000000</td>\n",
              "    </tr>\n",
              "    <tr>\n",
              "      <th>81</th>\n",
              "      <td>2015-08-17</td>\n",
              "      <td>2015-08-20</td>\n",
              "      <td>3 days 00:00:00.000000000</td>\n",
              "    </tr>\n",
              "  </tbody>\n",
              "</table>\n",
              "</div>"
            ],
            "text/plain": [
              "     DATA_TRM DATA_CULTURA                   Difference\n",
              "61 2015-07-31   2016-03-11  224 days 00:00:00.000000000\n",
              "63 2015-08-19   2015-11-20   93 days 00:00:00.000000000\n",
              "64 2015-08-21   2015-10-14   54 days 00:00:00.000000000\n",
              "76 2015-08-03   2015-08-24   21 days 00:00:00.000000000\n",
              "81 2015-08-17   2015-08-20    3 days 00:00:00.000000000"
            ]
          },
          "metadata": {
            "tags": []
          },
          "execution_count": 106
        }
      ]
    },
    {
      "cell_type": "code",
      "metadata": {
        "id": "NyxwQOiE7g_N",
        "colab_type": "code",
        "colab": {}
      },
      "source": [
        "data_timing['Time'] = data_timing.Difference.apply(lambda x: x.split(' ')[0])\n",
        "data_timing['Time'] = data_timing['Time'].astype(int)\n",
        "data_timing['Time'] = data_timing['Time'].abs()"
      ],
      "execution_count": 107,
      "outputs": []
    },
    {
      "cell_type": "code",
      "metadata": {
        "id": "_fzXxxLrElcr",
        "colab_type": "code",
        "colab": {}
      },
      "source": [
        "bins = [0,10,30,60,90,120,150,180,210]\n",
        "labels=[1,2,3,4,5,6,7,8]\n",
        "data_timing['Time'] = pd.cut(data_timing['Time'], bins=bins, labels=labels, right=False)"
      ],
      "execution_count": 108,
      "outputs": []
    },
    {
      "cell_type": "code",
      "metadata": {
        "id": "E6o-XDag-muo",
        "colab_type": "code",
        "colab": {
          "base_uri": "https://localhost:8080/",
          "height": 435
        },
        "outputId": "69cdb7fe-e101-4893-d79d-361dd157c27a"
      },
      "source": [
        "h = sns.catplot(x=\"Time\", kind=\"count\",\n",
        "            palette=\"pastel\", edgecolor=\".6\",\n",
        "            data=data_timing);\n",
        "h.set_xticklabels(['0-10 dias', '1 mês','2 meses','3 meses','4 meses','5 meses','6 meses', '> 6 meses'], rotation=90)\n",
        "h.set_axis_labels('Tempo decorrido entre o diagnóstico e a realização da Cultura', 'Número de Casos')"
      ],
      "execution_count": 109,
      "outputs": [
        {
          "output_type": "execute_result",
          "data": {
            "text/plain": [
              "<seaborn.axisgrid.FacetGrid at 0x7fe881cb07f0>"
            ]
          },
          "metadata": {
            "tags": []
          },
          "execution_count": 109
        },
        {
          "output_type": "display_data",
          "data": {
            "image/png": "[encoded data removed]",
            "text/plain": [
              "<Figure size 360x360 with 1 Axes>"
            ]
          },
          "metadata": {
            "tags": [],
            "needs_background": "light"
          }
        }
      ]
    },
    {
      "cell_type": "code",
      "metadata": {
        "id": "-NK2MHJXlVIx",
        "colab_type": "code",
        "colab": {
          "base_uri": "https://localhost:8080/",
          "height": 170
        },
        "outputId": "ac8907e8-ed9f-4a96-a4c6-e57a49a340c5"
      },
      "source": [
        "data_timing.Time.value_counts(normalize= True) * 100"
      ],
      "execution_count": 110,
      "outputs": [
        {
          "output_type": "execute_result",
          "data": {
            "text/plain": [
              "3    42.424242\n",
              "1    26.262626\n",
              "4     9.090909\n",
              "2     6.060606\n",
              "6     5.050505\n",
              "8     4.040404\n",
              "5     4.040404\n",
              "7     3.030303\n",
              "Name: Time, dtype: float64"
            ]
          },
          "metadata": {
            "tags": []
          },
          "execution_count": 110
        }
      ]
    },
    {
      "cell_type": "markdown",
      "metadata": {
        "id": "EBz3vWnPw8dR",
        "colab_type": "text"
      },
      "source": [
        "**Index of resistant MTB patients detected by MTB and TSA**"
      ]
    },
    {
      "cell_type": "code",
      "metadata": {
        "id": "BcDKWVZAzbMl",
        "colab_type": "code",
        "colab": {
          "base_uri": "https://localhost:8080/",
          "height": 204
        },
        "outputId": "0e3e9a8f-0864-4730-9472-32779d0b5943"
      },
      "source": [
        "mask= data['TSA'] != 'Negativo'\n",
        "data2 = data[mask]\n",
        "data2.head()"
      ],
      "execution_count": 111,
      "outputs": [
        {
          "output_type": "execute_result",
          "data": {
            "text/html": [
              "<div>\n",
              "<style scoped>\n",
              "    .dataframe tbody tr th:only-of-type {\n",
              "        vertical-align: middle;\n",
              "    }\n",
              "\n",
              "    .dataframe tbody tr th {\n",
              "        vertical-align: top;\n",
              "    }\n",
              "\n",
              "    .dataframe thead th {\n",
              "        text-align: right;\n",
              "    }\n",
              "</style>\n",
              "<table border=\"1\" class=\"dataframe\">\n",
              "  <thead>\n",
              "    <tr style=\"text-align: right;\">\n",
              "      <th></th>\n",
              "      <th>Nome</th>\n",
              "      <th>ID</th>\n",
              "      <th>HIV_TEST</th>\n",
              "      <th>Sexo</th>\n",
              "      <th>IDADE</th>\n",
              "      <th>CIDADE</th>\n",
              "      <th>DATA_TRM</th>\n",
              "      <th>MTB</th>\n",
              "      <th>RFP</th>\n",
              "      <th>DATA_CULTURA</th>\n",
              "      <th>RESULTADO</th>\n",
              "      <th>TSA</th>\n",
              "      <th>INH</th>\n",
              "      <th>RFP.1</th>\n",
              "      <th>BEM</th>\n",
              "      <th>SM</th>\n",
              "    </tr>\n",
              "  </thead>\n",
              "  <tbody>\n",
              "    <tr>\n",
              "      <th>0</th>\n",
              "      <td>GENILSON PAULO DOS SANTOS</td>\n",
              "      <td>2</td>\n",
              "      <td>0</td>\n",
              "      <td>M</td>\n",
              "      <td>3</td>\n",
              "      <td>CABEDELO</td>\n",
              "      <td>5/8/2015</td>\n",
              "      <td>1</td>\n",
              "      <td>NÃO</td>\n",
              "      <td>0</td>\n",
              "      <td>0</td>\n",
              "      <td>0</td>\n",
              "      <td>0</td>\n",
              "      <td>0</td>\n",
              "      <td>0</td>\n",
              "      <td>0</td>\n",
              "    </tr>\n",
              "    <tr>\n",
              "      <th>1</th>\n",
              "      <td>MARIA VITORIA BANDEIRA DA SILVA</td>\n",
              "      <td>9</td>\n",
              "      <td>0</td>\n",
              "      <td>F</td>\n",
              "      <td>4</td>\n",
              "      <td>JOÃO PESSOA</td>\n",
              "      <td>5/11/2015</td>\n",
              "      <td>1</td>\n",
              "      <td>NÃO</td>\n",
              "      <td>0</td>\n",
              "      <td>0</td>\n",
              "      <td>0</td>\n",
              "      <td>0</td>\n",
              "      <td>0</td>\n",
              "      <td>0</td>\n",
              "      <td>0</td>\n",
              "    </tr>\n",
              "    <tr>\n",
              "      <th>2</th>\n",
              "      <td>CASSIANO JOSE DA COSTA JUNIO</td>\n",
              "      <td>10</td>\n",
              "      <td>0</td>\n",
              "      <td>M</td>\n",
              "      <td>3</td>\n",
              "      <td>SANTA RITA</td>\n",
              "      <td>5/12/2015</td>\n",
              "      <td>1</td>\n",
              "      <td>NÃO</td>\n",
              "      <td>0</td>\n",
              "      <td>0</td>\n",
              "      <td>0</td>\n",
              "      <td>0</td>\n",
              "      <td>0</td>\n",
              "      <td>0</td>\n",
              "      <td>0</td>\n",
              "    </tr>\n",
              "    <tr>\n",
              "      <th>3</th>\n",
              "      <td>DANIEL CARLOS SILVA DE SOUZA</td>\n",
              "      <td>21</td>\n",
              "      <td>1</td>\n",
              "      <td>M</td>\n",
              "      <td>3</td>\n",
              "      <td>JOÃO PESSOA</td>\n",
              "      <td>5/14/2015</td>\n",
              "      <td>1</td>\n",
              "      <td>NÃO</td>\n",
              "      <td>0</td>\n",
              "      <td>0</td>\n",
              "      <td>0</td>\n",
              "      <td>0</td>\n",
              "      <td>0</td>\n",
              "      <td>0</td>\n",
              "      <td>0</td>\n",
              "    </tr>\n",
              "    <tr>\n",
              "      <th>4</th>\n",
              "      <td>SEVERINO HELENO DA SILVA</td>\n",
              "      <td>28</td>\n",
              "      <td>0</td>\n",
              "      <td>M</td>\n",
              "      <td>5</td>\n",
              "      <td>RIO TINTO</td>\n",
              "      <td>5/19/2015</td>\n",
              "      <td>1</td>\n",
              "      <td>NÃO</td>\n",
              "      <td>0</td>\n",
              "      <td>0</td>\n",
              "      <td>0</td>\n",
              "      <td>0</td>\n",
              "      <td>0</td>\n",
              "      <td>0</td>\n",
              "      <td>0</td>\n",
              "    </tr>\n",
              "  </tbody>\n",
              "</table>\n",
              "</div>"
            ],
            "text/plain": [
              "                              Nome  ID  HIV_TEST Sexo  ... INH RFP.1 BEM  SM\n",
              "0        GENILSON PAULO DOS SANTOS   2         0    M  ...   0     0   0   0\n",
              "1  MARIA VITORIA BANDEIRA DA SILVA   9         0    F  ...   0     0   0   0\n",
              "2     CASSIANO JOSE DA COSTA JUNIO  10         0    M  ...   0     0   0   0\n",
              "3     DANIEL CARLOS SILVA DE SOUZA  21         1    M  ...   0     0   0   0\n",
              "4         SEVERINO HELENO DA SILVA  28         0    M  ...   0     0   0   0\n",
              "\n",
              "[5 rows x 16 columns]"
            ]
          },
          "metadata": {
            "tags": []
          },
          "execution_count": 111
        }
      ]
    },
    {
      "cell_type": "code",
      "metadata": {
        "id": "l_v_GcnO2wXU",
        "colab_type": "code",
        "colab": {
          "base_uri": "https://localhost:8080/",
          "height": 386
        },
        "outputId": "4423d5af-d118-42af-8008-4dd2b28e1c5d"
      },
      "source": [
        "g =sns.catplot(x=\"RFP.1\", order=[\"S\", \"R\"],\n",
        "            kind=\"count\", palette=\"pastel\", data=data2)\n",
        "g.set_xticklabels(['Sensível', 'Resistente'])\n",
        "g.set_axis_labels('TSA','Número de Casos')"
      ],
      "execution_count": 112,
      "outputs": [
        {
          "output_type": "execute_result",
          "data": {
            "text/plain": [
              "<seaborn.axisgrid.FacetGrid at 0x7fe881d21f28>"
            ]
          },
          "metadata": {
            "tags": []
          },
          "execution_count": 112
        },
        {
          "output_type": "display_data",
          "data": {
            "image/png": "[encoded data removed]",
            "text/plain": [
              "<Figure size 360x360 with 1 Axes>"
            ]
          },
          "metadata": {
            "tags": [],
            "needs_background": "light"
          }
        }
      ]
    },
    {
      "cell_type": "code",
      "metadata": {
        "id": "KTerFlxp5XLW",
        "colab_type": "code",
        "colab": {
          "base_uri": "https://localhost:8080/",
          "height": 85
        },
        "outputId": "ce027513-9c0e-4a99-8293-26b5e39cc206"
      },
      "source": [
        "data2['RFP.1'].value_counts(normalize=True) * 100"
      ],
      "execution_count": 113,
      "outputs": [
        {
          "output_type": "execute_result",
          "data": {
            "text/plain": [
              "0    90.136986\n",
              "S     8.493151\n",
              "R     1.369863\n",
              "Name: RFP.1, dtype: float64"
            ]
          },
          "metadata": {
            "tags": []
          },
          "execution_count": 113
        }
      ]
    },
    {
      "cell_type": "markdown",
      "metadata": {
        "id": "qbAk9ikKxi99",
        "colab_type": "text"
      },
      "source": [
        "**The following two graphs were generated from existing graphs, these data were not extracted from the database**"
      ]
    },
    {
      "cell_type": "code",
      "metadata": {
        "id": "o-leQoUFavM0",
        "colab_type": "code",
        "colab": {
          "base_uri": "https://localhost:8080/",
          "height": 302
        },
        "outputId": "ffe9073b-14c1-4f79-d655-c4d1f173fbc7"
      },
      "source": [
        "data_new = {\"Ano\":[2015, 2016, 2017, 2018, 2019], \"Sensibilidade\":[169, 193, 215,357,197],\"Resistência\":[7,7,23,14,11]}\n",
        "df4 = pd.DataFrame.from_dict(data_new)\n",
        "df4.plot(x=\"Ano\", y=[\"Sensibilidade\", \"Resistência\"], kind=\"bar\", colormap='Set3')\n",
        "plt.xticks(rotation=0)"
      ],
      "execution_count": 114,
      "outputs": [
        {
          "output_type": "execute_result",
          "data": {
            "text/plain": [
              "(array([0, 1, 2, 3, 4]), <a list of 5 Text major ticklabel objects>)"
            ]
          },
          "metadata": {
            "tags": []
          },
          "execution_count": 114
        },
        {
          "output_type": "display_data",
          "data": {
            "image/png": "[encoded data removed]",
            "text/plain": [
              "<Figure size 432x288 with 1 Axes>"
            ]
          },
          "metadata": {
            "tags": [],
            "needs_background": "light"
          }
        }
      ]
    },
    {
      "cell_type": "code",
      "metadata": {
        "id": "4ZgkxAc-kO7e",
        "colab_type": "code",
        "colab": {
          "base_uri": "https://localhost:8080/",
          "height": 302
        },
        "outputId": "1d516b13-12e9-4b01-e729-ed7f269fc61d"
      },
      "source": [
        "data_new1 = {\"Ano\":[2015, 2016, 2017, 2018, 2019], \"Total de Teste\":[707,860,879,1618,862],\"MTB Detectada\":[176,200,238,371,208],\n",
        "             \"MTB Não Detectada\":[518, 642, 619, 1188,629], \"Erros\":[13,18,22,59,29]}\n",
        "df5 = pd.DataFrame.from_dict(data_new1)\n",
        "\n",
        "df5.plot(x=\"Ano\", y=[\"Total de Teste\",\"MTB Detectada\",\"MTB Não Detectada\",\"Erros\"], kind=\"bar\", colormap='Set3')\n",
        "plt.xticks(rotation=0)\n"
      ],
      "execution_count": 115,
      "outputs": [
        {
          "output_type": "execute_result",
          "data": {
            "text/plain": [
              "(array([0, 1, 2, 3, 4]), <a list of 5 Text major ticklabel objects>)"
            ]
          },
          "metadata": {
            "tags": []
          },
          "execution_count": 115
        },
        {
          "output_type": "display_data",
          "data": {
            "image/png": "[encoded data removed]",
            "text/plain": [
              "<Figure size 432x288 with 1 Axes>"
            ]
          },
          "metadata": {
            "tags": [],
            "needs_background": "light"
          }
        }
      ]
    },
    {
      "cell_type": "code",
      "metadata": {
        "id": "E1HmeInIx-Jh",
        "colab_type": "code",
        "colab": {}
      },
      "source": [
        ""
      ],
      "execution_count": null,
      "outputs": []
    }
  ]
}